{
 "cells": [
  {
   "cell_type": "code",
   "execution_count": 1,
   "metadata": {},
   "outputs": [],
   "source": [
    "from datetime import datetime, timedelta\n",
    "import numpy as np\n",
    "import pandas as pd\n",
    "import matplotlib.pyplot as plt\n",
    "from yahooquery import Ticker\n",
    "import seaborn as sns\n",
    "from scipy import stats"
   ]
  },
  {
   "cell_type": "markdown",
   "metadata": {},
   "source": [
    "# Coleta dos dados\n",
    "\n",
    "CSV retirado do site [fundamentus](https://fundamentus.com.br/detalhes.php)\n",
    "\n",
    "Adicionalmente será utilizada a biblioteca [YahooQuery](https://yahooquery.dpguthrie.com/) para coleta de dados dinâmicos realacionados a cotação"
   ]
  },
  {
   "cell_type": "markdown",
   "metadata": {},
   "source": [
    "> O período dos dados históricos obtidos é de **2018-10-13** a **2020-10-12**"
   ]
  },
  {
   "cell_type": "code",
   "execution_count": 2,
   "metadata": {},
   "outputs": [],
   "source": [
    "# Fixando datas limite\n",
    "END_DATE = datetime(2020, 10, 12)\n",
    "START_DATE = END_DATE - timedelta(days=365 * 2)\n",
    "\n",
    "TODAY = END_DATE - timedelta(days=180)\n",
    "_6m = END_DATE - timedelta(days=360)"
   ]
  },
  {
   "cell_type": "code",
   "execution_count": 3,
   "metadata": {},
   "outputs": [],
   "source": [
    "df = pd.read_csv('../data/2020_10_11_fundamentus.csv', index_col='ticker')"
   ]
  },
  {
   "cell_type": "code",
   "execution_count": 4,
   "metadata": {},
   "outputs": [
    {
     "data": {
      "text/html": [
       "<div>\n",
       "<style scoped>\n",
       "    .dataframe tbody tr th:only-of-type {\n",
       "        vertical-align: middle;\n",
       "    }\n",
       "\n",
       "    .dataframe tbody tr th {\n",
       "        vertical-align: top;\n",
       "    }\n",
       "\n",
       "    .dataframe thead th {\n",
       "        text-align: right;\n",
       "    }\n",
       "</style>\n",
       "<table border=\"1\" class=\"dataframe\">\n",
       "  <thead>\n",
       "    <tr style=\"text-align: right;\">\n",
       "      <th></th>\n",
       "      <th>ATIVO</th>\n",
       "      <th>DIV_BRUTA</th>\n",
       "      <th>DISPONIBILIDADES</th>\n",
       "      <th>DIV_LIQUIDA</th>\n",
       "      <th>ATIVO_CIRCULANTE</th>\n",
       "      <th>PATRIM_LIQ</th>\n",
       "      <th>RECEITA_LIQUIDA</th>\n",
       "      <th>EBIT</th>\n",
       "      <th>LUCRO_LIQUIDO</th>\n",
       "      <th>NRO_ACOES</th>\n",
       "      <th>CRES_REC_(5A)</th>\n",
       "      <th>ROIC</th>\n",
       "      <th>LIQUIDEZ_CORR</th>\n",
       "      <th>SETOR</th>\n",
       "      <th>SUBSETOR</th>\n",
       "      <th>DEPOSITOS</th>\n",
       "      <th>CART_DE_CREDITO</th>\n",
       "      <th>RESULT_INT_FINANC</th>\n",
       "      <th>REC_SERVICOS</th>\n",
       "    </tr>\n",
       "    <tr>\n",
       "      <th>ticker</th>\n",
       "      <th></th>\n",
       "      <th></th>\n",
       "      <th></th>\n",
       "      <th></th>\n",
       "      <th></th>\n",
       "      <th></th>\n",
       "      <th></th>\n",
       "      <th></th>\n",
       "      <th></th>\n",
       "      <th></th>\n",
       "      <th></th>\n",
       "      <th></th>\n",
       "      <th></th>\n",
       "      <th></th>\n",
       "      <th></th>\n",
       "      <th></th>\n",
       "      <th></th>\n",
       "      <th></th>\n",
       "      <th></th>\n",
       "    </tr>\n",
       "  </thead>\n",
       "  <tbody>\n",
       "    <tr>\n",
       "      <th>AALR3</th>\n",
       "      <td>2.618910e+09</td>\n",
       "      <td>9.017330e+08</td>\n",
       "      <td>3.253200e+08</td>\n",
       "      <td>5.764130e+08</td>\n",
       "      <td>6.355580e+08</td>\n",
       "      <td>1.179760e+09</td>\n",
       "      <td>9.147390e+08</td>\n",
       "      <td>-2.432000e+06</td>\n",
       "      <td>-8.448000e+07</td>\n",
       "      <td>1.182930e+08</td>\n",
       "      <td>-0.040</td>\n",
       "      <td>-0.001</td>\n",
       "      <td>0.87</td>\n",
       "      <td>SAUDE</td>\n",
       "      <td>SERVICOS_MEDICO_-_HOSPITALARES_ANALISES_E_DIAG...</td>\n",
       "      <td>NaN</td>\n",
       "      <td>NaN</td>\n",
       "      <td>NaN</td>\n",
       "      <td>NaN</td>\n",
       "    </tr>\n",
       "    <tr>\n",
       "      <th>ABCB3</th>\n",
       "      <td>4.989580e+10</td>\n",
       "      <td>NaN</td>\n",
       "      <td>NaN</td>\n",
       "      <td>NaN</td>\n",
       "      <td>NaN</td>\n",
       "      <td>4.093300e+09</td>\n",
       "      <td>NaN</td>\n",
       "      <td>NaN</td>\n",
       "      <td>4.187330e+08</td>\n",
       "      <td>2.183590e+08</td>\n",
       "      <td>0.028</td>\n",
       "      <td>NaN</td>\n",
       "      <td>NaN</td>\n",
       "      <td>FINANCEIROS</td>\n",
       "      <td>BANCOS</td>\n",
       "      <td>7.325720e+09</td>\n",
       "      <td>1.768990e+10</td>\n",
       "      <td>-5453950.0</td>\n",
       "      <td>292984000.0</td>\n",
       "    </tr>\n",
       "    <tr>\n",
       "      <th>ABCB4</th>\n",
       "      <td>4.989580e+10</td>\n",
       "      <td>NaN</td>\n",
       "      <td>NaN</td>\n",
       "      <td>NaN</td>\n",
       "      <td>NaN</td>\n",
       "      <td>4.093300e+09</td>\n",
       "      <td>NaN</td>\n",
       "      <td>NaN</td>\n",
       "      <td>4.187330e+08</td>\n",
       "      <td>2.183590e+08</td>\n",
       "      <td>0.028</td>\n",
       "      <td>NaN</td>\n",
       "      <td>NaN</td>\n",
       "      <td>FINANCEIROS</td>\n",
       "      <td>BANCOS</td>\n",
       "      <td>7.325720e+09</td>\n",
       "      <td>1.768990e+10</td>\n",
       "      <td>-5453950.0</td>\n",
       "      <td>292984000.0</td>\n",
       "    </tr>\n",
       "    <tr>\n",
       "      <th>ABEV3</th>\n",
       "      <td>1.213930e+11</td>\n",
       "      <td>6.782830e+09</td>\n",
       "      <td>1.748380e+10</td>\n",
       "      <td>-1.070090e+10</td>\n",
       "      <td>3.626810e+10</td>\n",
       "      <td>7.392280e+10</td>\n",
       "      <td>5.203240e+10</td>\n",
       "      <td>1.322820e+10</td>\n",
       "      <td>8.915960e+09</td>\n",
       "      <td>1.573510e+10</td>\n",
       "      <td>0.030</td>\n",
       "      <td>0.146</td>\n",
       "      <td>1.24</td>\n",
       "      <td>BEBIDAS</td>\n",
       "      <td>CERVEJAS_E_REFRIGERANTES</td>\n",
       "      <td>NaN</td>\n",
       "      <td>NaN</td>\n",
       "      <td>NaN</td>\n",
       "      <td>NaN</td>\n",
       "    </tr>\n",
       "    <tr>\n",
       "      <th>ABYA3</th>\n",
       "      <td>9.782870e+08</td>\n",
       "      <td>3.831590e+08</td>\n",
       "      <td>2.955600e+07</td>\n",
       "      <td>3.536030e+08</td>\n",
       "      <td>4.982220e+08</td>\n",
       "      <td>2.920600e+08</td>\n",
       "      <td>2.506570e+08</td>\n",
       "      <td>2.580200e+07</td>\n",
       "      <td>-2.398000e+06</td>\n",
       "      <td>1.049060e+08</td>\n",
       "      <td>0.164</td>\n",
       "      <td>0.028</td>\n",
       "      <td>2.09</td>\n",
       "      <td>CONSTRUCAO_E_ENGENHARIA</td>\n",
       "      <td>CONSTRUCAO_CIVIL</td>\n",
       "      <td>NaN</td>\n",
       "      <td>NaN</td>\n",
       "      <td>NaN</td>\n",
       "      <td>NaN</td>\n",
       "    </tr>\n",
       "  </tbody>\n",
       "</table>\n",
       "</div>"
      ],
      "text/plain": [
       "               ATIVO     DIV_BRUTA  DISPONIBILIDADES   DIV_LIQUIDA  \\\n",
       "ticker                                                               \n",
       "AALR3   2.618910e+09  9.017330e+08      3.253200e+08  5.764130e+08   \n",
       "ABCB3   4.989580e+10           NaN               NaN           NaN   \n",
       "ABCB4   4.989580e+10           NaN               NaN           NaN   \n",
       "ABEV3   1.213930e+11  6.782830e+09      1.748380e+10 -1.070090e+10   \n",
       "ABYA3   9.782870e+08  3.831590e+08      2.955600e+07  3.536030e+08   \n",
       "\n",
       "        ATIVO_CIRCULANTE    PATRIM_LIQ  RECEITA_LIQUIDA          EBIT  \\\n",
       "ticker                                                                  \n",
       "AALR3       6.355580e+08  1.179760e+09     9.147390e+08 -2.432000e+06   \n",
       "ABCB3                NaN  4.093300e+09              NaN           NaN   \n",
       "ABCB4                NaN  4.093300e+09              NaN           NaN   \n",
       "ABEV3       3.626810e+10  7.392280e+10     5.203240e+10  1.322820e+10   \n",
       "ABYA3       4.982220e+08  2.920600e+08     2.506570e+08  2.580200e+07   \n",
       "\n",
       "        LUCRO_LIQUIDO     NRO_ACOES  CRES_REC_(5A)   ROIC  LIQUIDEZ_CORR  \\\n",
       "ticker                                                                     \n",
       "AALR3   -8.448000e+07  1.182930e+08         -0.040 -0.001           0.87   \n",
       "ABCB3    4.187330e+08  2.183590e+08          0.028    NaN            NaN   \n",
       "ABCB4    4.187330e+08  2.183590e+08          0.028    NaN            NaN   \n",
       "ABEV3    8.915960e+09  1.573510e+10          0.030  0.146           1.24   \n",
       "ABYA3   -2.398000e+06  1.049060e+08          0.164  0.028           2.09   \n",
       "\n",
       "                          SETOR  \\\n",
       "ticker                            \n",
       "AALR3                     SAUDE   \n",
       "ABCB3               FINANCEIROS   \n",
       "ABCB4               FINANCEIROS   \n",
       "ABEV3                   BEBIDAS   \n",
       "ABYA3   CONSTRUCAO_E_ENGENHARIA   \n",
       "\n",
       "                                                 SUBSETOR     DEPOSITOS  \\\n",
       "ticker                                                                    \n",
       "AALR3   SERVICOS_MEDICO_-_HOSPITALARES_ANALISES_E_DIAG...           NaN   \n",
       "ABCB3                                              BANCOS  7.325720e+09   \n",
       "ABCB4                                              BANCOS  7.325720e+09   \n",
       "ABEV3                            CERVEJAS_E_REFRIGERANTES           NaN   \n",
       "ABYA3                                    CONSTRUCAO_CIVIL           NaN   \n",
       "\n",
       "        CART_DE_CREDITO  RESULT_INT_FINANC  REC_SERVICOS  \n",
       "ticker                                                    \n",
       "AALR3               NaN                NaN           NaN  \n",
       "ABCB3      1.768990e+10         -5453950.0   292984000.0  \n",
       "ABCB4      1.768990e+10         -5453950.0   292984000.0  \n",
       "ABEV3               NaN                NaN           NaN  \n",
       "ABYA3               NaN                NaN           NaN  "
      ]
     },
     "execution_count": 4,
     "metadata": {},
     "output_type": "execute_result"
    }
   ],
   "source": [
    "df.replace([np.inf, -np.inf], np.nan)\n",
    "df.head()"
   ]
  },
  {
   "cell_type": "code",
   "execution_count": 5,
   "metadata": {},
   "outputs": [
    {
     "data": {
      "text/plain": [
       "(906, 19)"
      ]
     },
     "execution_count": 5,
     "metadata": {},
     "output_type": "execute_result"
    }
   ],
   "source": [
    "df.shape"
   ]
  },
  {
   "cell_type": "code",
   "execution_count": 6,
   "metadata": {},
   "outputs": [
    {
     "data": {
      "text/plain": [
       "ATIVO                float64\n",
       "DIV_BRUTA            float64\n",
       "DISPONIBILIDADES     float64\n",
       "DIV_LIQUIDA          float64\n",
       "ATIVO_CIRCULANTE     float64\n",
       "PATRIM_LIQ           float64\n",
       "RECEITA_LIQUIDA      float64\n",
       "EBIT                 float64\n",
       "LUCRO_LIQUIDO        float64\n",
       "NRO_ACOES            float64\n",
       "CRES_REC_(5A)        float64\n",
       "ROIC                 float64\n",
       "LIQUIDEZ_CORR        float64\n",
       "SETOR                 object\n",
       "SUBSETOR              object\n",
       "DEPOSITOS            float64\n",
       "CART_DE_CREDITO      float64\n",
       "RESULT_INT_FINANC    float64\n",
       "REC_SERVICOS         float64\n",
       "dtype: object"
      ]
     },
     "execution_count": 6,
     "metadata": {},
     "output_type": "execute_result"
    }
   ],
   "source": [
    "df.dtypes"
   ]
  },
  {
   "cell_type": "markdown",
   "metadata": {},
   "source": [
    "### Adicionando indicadores fundamentalistas em função da cotação atual"
   ]
  },
  {
   "cell_type": "markdown",
   "metadata": {},
   "source": [
    "O método `Ticker.summary_detail` retorna uma série de atributos referentes a cotação do papel em questão. O crawler do fundamentus ainda retorna algums papéis que já tiveram sua *Oferta Pública de Aquisição* (OPA) e/ou não estão mais na B3\n",
    "\n",
    "É necessário filtrar esses ativos com ajuda da classe `Ticker`"
   ]
  },
  {
   "cell_type": "code",
   "execution_count": 7,
   "metadata": {},
   "outputs": [
    {
     "name": "stdout",
     "output_type": "stream",
     "text": [
      "# of threads: 12\n"
     ]
    }
   ],
   "source": [
    "# https://yahooquery.dpguthrie.com/guide/ticker/intro/\n",
    "import multiprocessing\n",
    "\n",
    "threads = multiprocessing.cpu_count()\n",
    "print(f'# of threads: {threads}')\n",
    "\n",
    "tickers = Ticker(' '.join(f'{ticker}.SA' for ticker in df.index), asynchronous=True,\n",
    "                 max_workers=threads, progress=True, timeout=60*10)"
   ]
  },
  {
   "cell_type": "code",
   "execution_count": 8,
   "metadata": {},
   "outputs": [
    {
     "name": "stdout",
     "output_type": "stream",
     "text": [
      "CPU times: user 18.1 s, sys: 1.02 s, total: 19.1 s\n",
      "Wall time: 29.6 s\n"
     ]
    },
    {
     "data": {
      "text/plain": [
       "479"
      ]
     },
     "execution_count": 8,
     "metadata": {},
     "output_type": "execute_result"
    }
   ],
   "source": [
    "%%time\n",
    "\n",
    "history = tickers.history(period='max', end=END_DATE, interval='1d')\n",
    "\n",
    "if isinstance(history, dict):\n",
    "    history = {k.replace('.SA', ''): v for k, v in history.items() if isinstance(k, str)}\n",
    "    \n",
    "    valid_tickers = [k\n",
    "                     for k, v in history.items()\n",
    "                     if isinstance(v, pd.DataFrame)]\n",
    "elif isinstance(history, pd.DataFrame):\n",
    "    history = {t.replace('.SA', ''): history.loc[f'{t}.SA']\n",
    "               for t in history.index}\n",
    "    valid_tickers = [k for k in history.index]\n",
    "    \n",
    "    \n",
    "tickers = Ticker(' '.join(f'{ticker}.SA' for ticker in valid_tickers), asynchronous=True,\n",
    "                 max_workers=threads, progress=True)\n",
    "\n",
    "len(valid_tickers)"
   ]
  },
  {
   "cell_type": "code",
   "execution_count": 9,
   "metadata": {},
   "outputs": [
    {
     "data": {
      "text/plain": [
       "(479, 19)"
      ]
     },
     "execution_count": 9,
     "metadata": {},
     "output_type": "execute_result"
    }
   ],
   "source": [
    "df_clean = df.loc[[t for t in df.index if t in valid_tickers],:]\n",
    "df_clean.shape"
   ]
  },
  {
   "cell_type": "code",
   "execution_count": 10,
   "metadata": {},
   "outputs": [],
   "source": [
    "PRECO_FINAL = f'PRECO_{END_DATE.strftime(\"%Y_%m_%d\")}' # target\n",
    "PRECO_HOJE = f'PRECO_{TODAY.strftime(\"%Y_%m_%d\")}'\n",
    "PRECO_6m = f'PRECO_{_6m.strftime(\"%Y_%m_%d\")}'"
   ]
  },
  {
   "cell_type": "code",
   "execution_count": 11,
   "metadata": {},
   "outputs": [
    {
     "data": {
      "text/plain": [
       "443"
      ]
     },
     "execution_count": 11,
     "metadata": {},
     "output_type": "execute_result"
    }
   ],
   "source": [
    "def cotacao_hoje(row):\n",
    "    try:\n",
    "        return history[row.name]['close'].loc[TODAY.date()]\n",
    "    except KeyError as e:\n",
    "        return np.nan\n",
    "\n",
    "df_clean[PRECO_HOJE] = df_clean.apply(cotacao_hoje, axis=1)\n",
    "df_clean.dropna(subset=[PRECO_HOJE], inplace=True)\n",
    "\n",
    "len(df_clean)"
   ]
  },
  {
   "cell_type": "code",
   "execution_count": 12,
   "metadata": {},
   "outputs": [
    {
     "data": {
      "text/html": [
       "<div>\n",
       "<style scoped>\n",
       "    .dataframe tbody tr th:only-of-type {\n",
       "        vertical-align: middle;\n",
       "    }\n",
       "\n",
       "    .dataframe tbody tr th {\n",
       "        vertical-align: top;\n",
       "    }\n",
       "\n",
       "    .dataframe thead th {\n",
       "        text-align: right;\n",
       "    }\n",
       "</style>\n",
       "<table border=\"1\" class=\"dataframe\">\n",
       "  <thead>\n",
       "    <tr style=\"text-align: right;\">\n",
       "      <th></th>\n",
       "      <th>ATIVO</th>\n",
       "      <th>DIV_BRUTA</th>\n",
       "      <th>DISPONIBILIDADES</th>\n",
       "      <th>DIV_LIQUIDA</th>\n",
       "      <th>ATIVO_CIRCULANTE</th>\n",
       "      <th>PATRIM_LIQ</th>\n",
       "      <th>RECEITA_LIQUIDA</th>\n",
       "      <th>EBIT</th>\n",
       "      <th>LUCRO_LIQUIDO</th>\n",
       "      <th>NRO_ACOES</th>\n",
       "      <th>CRES_REC_(5A)</th>\n",
       "      <th>ROIC</th>\n",
       "      <th>LIQUIDEZ_CORR</th>\n",
       "      <th>SETOR</th>\n",
       "      <th>SUBSETOR</th>\n",
       "      <th>DEPOSITOS</th>\n",
       "      <th>CART_DE_CREDITO</th>\n",
       "      <th>RESULT_INT_FINANC</th>\n",
       "      <th>REC_SERVICOS</th>\n",
       "      <th>PRECO_2020_04_15</th>\n",
       "    </tr>\n",
       "    <tr>\n",
       "      <th>ticker</th>\n",
       "      <th></th>\n",
       "      <th></th>\n",
       "      <th></th>\n",
       "      <th></th>\n",
       "      <th></th>\n",
       "      <th></th>\n",
       "      <th></th>\n",
       "      <th></th>\n",
       "      <th></th>\n",
       "      <th></th>\n",
       "      <th></th>\n",
       "      <th></th>\n",
       "      <th></th>\n",
       "      <th></th>\n",
       "      <th></th>\n",
       "      <th></th>\n",
       "      <th></th>\n",
       "      <th></th>\n",
       "      <th></th>\n",
       "      <th></th>\n",
       "    </tr>\n",
       "  </thead>\n",
       "  <tbody>\n",
       "    <tr>\n",
       "      <th>AALR3</th>\n",
       "      <td>2.618910e+09</td>\n",
       "      <td>9.017330e+08</td>\n",
       "      <td>3.253200e+08</td>\n",
       "      <td>5.764130e+08</td>\n",
       "      <td>6.355580e+08</td>\n",
       "      <td>1.179760e+09</td>\n",
       "      <td>9.147390e+08</td>\n",
       "      <td>-2.432000e+06</td>\n",
       "      <td>-8.448000e+07</td>\n",
       "      <td>1.182930e+08</td>\n",
       "      <td>-0.040</td>\n",
       "      <td>-0.001</td>\n",
       "      <td>0.87</td>\n",
       "      <td>SAUDE</td>\n",
       "      <td>SERVICOS_MEDICO_-_HOSPITALARES_ANALISES_E_DIAG...</td>\n",
       "      <td>NaN</td>\n",
       "      <td>NaN</td>\n",
       "      <td>NaN</td>\n",
       "      <td>NaN</td>\n",
       "      <td>10.21</td>\n",
       "    </tr>\n",
       "    <tr>\n",
       "      <th>ABCB4</th>\n",
       "      <td>4.989580e+10</td>\n",
       "      <td>NaN</td>\n",
       "      <td>NaN</td>\n",
       "      <td>NaN</td>\n",
       "      <td>NaN</td>\n",
       "      <td>4.093300e+09</td>\n",
       "      <td>NaN</td>\n",
       "      <td>NaN</td>\n",
       "      <td>4.187330e+08</td>\n",
       "      <td>2.183590e+08</td>\n",
       "      <td>0.028</td>\n",
       "      <td>NaN</td>\n",
       "      <td>NaN</td>\n",
       "      <td>FINANCEIROS</td>\n",
       "      <td>BANCOS</td>\n",
       "      <td>7.325720e+09</td>\n",
       "      <td>1.768990e+10</td>\n",
       "      <td>-5453950.0</td>\n",
       "      <td>292984000.0</td>\n",
       "      <td>14.07</td>\n",
       "    </tr>\n",
       "    <tr>\n",
       "      <th>ABEV3</th>\n",
       "      <td>1.213930e+11</td>\n",
       "      <td>6.782830e+09</td>\n",
       "      <td>1.748380e+10</td>\n",
       "      <td>-1.070090e+10</td>\n",
       "      <td>3.626810e+10</td>\n",
       "      <td>7.392280e+10</td>\n",
       "      <td>5.203240e+10</td>\n",
       "      <td>1.322820e+10</td>\n",
       "      <td>8.915960e+09</td>\n",
       "      <td>1.573510e+10</td>\n",
       "      <td>0.030</td>\n",
       "      <td>0.146</td>\n",
       "      <td>1.24</td>\n",
       "      <td>BEBIDAS</td>\n",
       "      <td>CERVEJAS_E_REFRIGERANTES</td>\n",
       "      <td>NaN</td>\n",
       "      <td>NaN</td>\n",
       "      <td>NaN</td>\n",
       "      <td>NaN</td>\n",
       "      <td>11.91</td>\n",
       "    </tr>\n",
       "    <tr>\n",
       "      <th>ADHM3</th>\n",
       "      <td>2.420000e+05</td>\n",
       "      <td>0.000000e+00</td>\n",
       "      <td>0.000000e+00</td>\n",
       "      <td>0.000000e+00</td>\n",
       "      <td>2.300000e+04</td>\n",
       "      <td>-1.977600e+07</td>\n",
       "      <td>3.300000e+04</td>\n",
       "      <td>-4.471000e+06</td>\n",
       "      <td>-6.224000e+06</td>\n",
       "      <td>1.630800e+07</td>\n",
       "      <td>0.435</td>\n",
       "      <td>5.217</td>\n",
       "      <td>0.00</td>\n",
       "      <td>PRODS_DE_USO_PESSOAL_E_DE_LIMPEZA</td>\n",
       "      <td>PRODUTOS_DE_USO_PESSOAL</td>\n",
       "      <td>NaN</td>\n",
       "      <td>NaN</td>\n",
       "      <td>NaN</td>\n",
       "      <td>NaN</td>\n",
       "      <td>2.40</td>\n",
       "    </tr>\n",
       "    <tr>\n",
       "      <th>AFLT3</th>\n",
       "      <td>2.367050e+08</td>\n",
       "      <td>8.830000e+05</td>\n",
       "      <td>6.404200e+07</td>\n",
       "      <td>-6.315900e+07</td>\n",
       "      <td>8.776500e+07</td>\n",
       "      <td>2.253200e+08</td>\n",
       "      <td>3.845600e+07</td>\n",
       "      <td>2.344000e+07</td>\n",
       "      <td>2.376300e+07</td>\n",
       "      <td>6.308500e+07</td>\n",
       "      <td>0.107</td>\n",
       "      <td>0.136</td>\n",
       "      <td>20.69</td>\n",
       "      <td>ENERGIA_ELETRICA</td>\n",
       "      <td>ENERGIA_ELETRICA</td>\n",
       "      <td>NaN</td>\n",
       "      <td>NaN</td>\n",
       "      <td>NaN</td>\n",
       "      <td>NaN</td>\n",
       "      <td>7.63</td>\n",
       "    </tr>\n",
       "  </tbody>\n",
       "</table>\n",
       "</div>"
      ],
      "text/plain": [
       "               ATIVO     DIV_BRUTA  DISPONIBILIDADES   DIV_LIQUIDA  \\\n",
       "ticker                                                               \n",
       "AALR3   2.618910e+09  9.017330e+08      3.253200e+08  5.764130e+08   \n",
       "ABCB4   4.989580e+10           NaN               NaN           NaN   \n",
       "ABEV3   1.213930e+11  6.782830e+09      1.748380e+10 -1.070090e+10   \n",
       "ADHM3   2.420000e+05  0.000000e+00      0.000000e+00  0.000000e+00   \n",
       "AFLT3   2.367050e+08  8.830000e+05      6.404200e+07 -6.315900e+07   \n",
       "\n",
       "        ATIVO_CIRCULANTE    PATRIM_LIQ  RECEITA_LIQUIDA          EBIT  \\\n",
       "ticker                                                                  \n",
       "AALR3       6.355580e+08  1.179760e+09     9.147390e+08 -2.432000e+06   \n",
       "ABCB4                NaN  4.093300e+09              NaN           NaN   \n",
       "ABEV3       3.626810e+10  7.392280e+10     5.203240e+10  1.322820e+10   \n",
       "ADHM3       2.300000e+04 -1.977600e+07     3.300000e+04 -4.471000e+06   \n",
       "AFLT3       8.776500e+07  2.253200e+08     3.845600e+07  2.344000e+07   \n",
       "\n",
       "        LUCRO_LIQUIDO     NRO_ACOES  CRES_REC_(5A)   ROIC  LIQUIDEZ_CORR  \\\n",
       "ticker                                                                     \n",
       "AALR3   -8.448000e+07  1.182930e+08         -0.040 -0.001           0.87   \n",
       "ABCB4    4.187330e+08  2.183590e+08          0.028    NaN            NaN   \n",
       "ABEV3    8.915960e+09  1.573510e+10          0.030  0.146           1.24   \n",
       "ADHM3   -6.224000e+06  1.630800e+07          0.435  5.217           0.00   \n",
       "AFLT3    2.376300e+07  6.308500e+07          0.107  0.136          20.69   \n",
       "\n",
       "                                    SETOR  \\\n",
       "ticker                                      \n",
       "AALR3                               SAUDE   \n",
       "ABCB4                         FINANCEIROS   \n",
       "ABEV3                             BEBIDAS   \n",
       "ADHM3   PRODS_DE_USO_PESSOAL_E_DE_LIMPEZA   \n",
       "AFLT3                    ENERGIA_ELETRICA   \n",
       "\n",
       "                                                 SUBSETOR     DEPOSITOS  \\\n",
       "ticker                                                                    \n",
       "AALR3   SERVICOS_MEDICO_-_HOSPITALARES_ANALISES_E_DIAG...           NaN   \n",
       "ABCB4                                              BANCOS  7.325720e+09   \n",
       "ABEV3                            CERVEJAS_E_REFRIGERANTES           NaN   \n",
       "ADHM3                             PRODUTOS_DE_USO_PESSOAL           NaN   \n",
       "AFLT3                                    ENERGIA_ELETRICA           NaN   \n",
       "\n",
       "        CART_DE_CREDITO  RESULT_INT_FINANC  REC_SERVICOS  PRECO_2020_04_15  \n",
       "ticker                                                                      \n",
       "AALR3               NaN                NaN           NaN             10.21  \n",
       "ABCB4      1.768990e+10         -5453950.0   292984000.0             14.07  \n",
       "ABEV3               NaN                NaN           NaN             11.91  \n",
       "ADHM3               NaN                NaN           NaN              2.40  \n",
       "AFLT3               NaN                NaN           NaN              7.63  "
      ]
     },
     "execution_count": 12,
     "metadata": {},
     "output_type": "execute_result"
    }
   ],
   "source": [
    "df_clean.head()"
   ]
  },
  {
   "cell_type": "markdown",
   "metadata": {},
   "source": [
    "Calculando os indicadores fundamentalistas"
   ]
  },
  {
   "cell_type": "code",
   "execution_count": 13,
   "metadata": {},
   "outputs": [],
   "source": [
    "# LPA: Lucro por Acoes\n",
    "df_clean['LPA'] = df_clean['LUCRO_LIQUIDO'] / df_clean['NRO_ACOES']\n",
    "\n",
    "# VPA: Valor Patrimonial por Acao\n",
    "df_clean['VPA'] = df_clean['PATRIM_LIQ'] / df_clean['NRO_ACOES']\n",
    "\n",
    "# P/L: Preço sobre Lucro\n",
    "df_clean['P/L'] = df_clean[PRECO_HOJE] / df_clean['LPA']\n",
    "\n",
    "# P/VPA: Preço sobre Valor Patrimonial\n",
    "df_clean['P/VP'] = df_clean[PRECO_HOJE] / df_clean['VPA']\n",
    "\n",
    "# P/EBIT: Preço sobre EBIT\n",
    "df_clean['P/EBIT'] = df_clean[PRECO_HOJE] / (df_clean['EBIT'] / df_clean['NRO_ACOES'])\n",
    "\n",
    "# MARKET_CAP: valor total das acoes ou valor de mercado\n",
    "df_clean['MARKET_CAP'] = df_clean[PRECO_HOJE] * df_clean['NRO_ACOES']\n",
    "\n",
    "# EV: Enterprise Value == market cap + divida liquida\n",
    "df_clean['EV'] = df_clean['MARKET_CAP'] + df_clean['DIV_LIQUIDA']\n",
    "\n",
    "# EV/EBIT: Enterprise Value sobre EBIT\n",
    "df_clean['EV/EBIT'] = df_clean['EV'] / df_clean['EBIT']\n",
    "\n",
    "# MARGEM_EBIT: EBIT/RECEITA_LIQUIDA\n",
    "df_clean['MARGEM_EBIT'] = df_clean['EBIT'] / df_clean['RECEITA_LIQUIDA']\n",
    "\n",
    "# MARGEM_LIQUIDA: LUCRO_LIQUIDO/RECEITA_LIQUIDA\n",
    "df_clean['MARGEM_LIQUIDA'] = df_clean['LUCRO_LIQUIDO'] / df_clean['RECEITA_LIQUIDA']\n",
    "\n",
    "# ROE: LUCRO_LIQUIDO/PATRIM_LIQ\n",
    "df_clean['ROE'] = df_clean['LUCRO_LIQUIDO'] / df_clean['PATRIM_LIQ']\n",
    "\n",
    "# DIV_LIQ/PATR_LIQ\n",
    "df_clean['DIV_LIQ/PATR_LIQ'] = df_clean['DIV_LIQUIDA'] / df_clean['PATRIM_LIQ']"
   ]
  },
  {
   "cell_type": "code",
   "execution_count": 14,
   "metadata": {},
   "outputs": [
    {
     "data": {
      "text/plain": [
       "ATIVO                 6.5814e+10\n",
       "DIV_BRUTA              4.981e+09\n",
       "DISPONIBILIDADES       3.821e+09\n",
       "DIV_LIQUIDA             1.16e+09\n",
       "ATIVO_CIRCULANTE       6.799e+09\n",
       "PATRIM_LIQ            5.2896e+10\n",
       "RECEITA_LIQUIDA        5.002e+09\n",
       "EBIT                    1.77e+08\n",
       "LUCRO_LIQUIDO          7.001e+09\n",
       "NRO_ACOES            8.41081e+09\n",
       "CRES_REC_(5A)              0.014\n",
       "ROIC                       0.003\n",
       "LIQUIDEZ_CORR               2.36\n",
       "SETOR                FINANCEIROS\n",
       "SUBSETOR                  BANCOS\n",
       "DEPOSITOS                    NaN\n",
       "CART_DE_CREDITO              NaN\n",
       "RESULT_INT_FINANC            NaN\n",
       "REC_SERVICOS                 NaN\n",
       "PRECO_2020_04_15             9.3\n",
       "LPA                     0.832381\n",
       "VPA                      6.28905\n",
       "P/L                      11.1728\n",
       "P/VP                     1.47876\n",
       "P/EBIT                   441.924\n",
       "MARKET_CAP           7.82205e+10\n",
       "EV                   7.93805e+10\n",
       "EV/EBIT                  448.478\n",
       "MARGEM_EBIT            0.0353858\n",
       "MARGEM_LIQUIDA           1.39964\n",
       "ROE                     0.132354\n",
       "DIV_LIQ/PATR_LIQ       0.0219298\n",
       "Name: ITSA4, dtype: object"
      ]
     },
     "execution_count": 14,
     "metadata": {},
     "output_type": "execute_result"
    }
   ],
   "source": [
    "df_clean.loc['ITSA4'] # Exemplo de Itausa, holding a que pertence o Itau"
   ]
  },
  {
   "cell_type": "markdown",
   "metadata": {},
   "source": [
    "# Definição de tipos\n",
    "\n",
    "Dessa forma temos um dataset construido, com possibilidade de ter os dados de balanço patrimonial atualizados através do crawler e os dados de mercado através da api yahooquery\n",
    "\n",
    "O dataset final tem 32 atributos, sendo 30 numéricos e 2 categóricos como mostrado abaixo"
   ]
  },
  {
   "cell_type": "code",
   "execution_count": 15,
   "metadata": {},
   "outputs": [
    {
     "data": {
      "text/plain": [
       "(443, 32)"
      ]
     },
     "execution_count": 15,
     "metadata": {},
     "output_type": "execute_result"
    }
   ],
   "source": [
    "acoes = df_clean\n",
    "# mudando o tipo de setor e subsetor de antemão\n",
    "acoes['SETOR'] = acoes['SETOR'].astype('category')\n",
    "acoes['SUBSETOR'] = acoes['SUBSETOR'].astype('category')\n",
    "acoes.shape"
   ]
  },
  {
   "cell_type": "code",
   "execution_count": 16,
   "metadata": {},
   "outputs": [
    {
     "data": {
      "text/plain": [
       "ATIVO                 float64\n",
       "DIV_BRUTA             float64\n",
       "DISPONIBILIDADES      float64\n",
       "DIV_LIQUIDA           float64\n",
       "ATIVO_CIRCULANTE      float64\n",
       "PATRIM_LIQ            float64\n",
       "RECEITA_LIQUIDA       float64\n",
       "EBIT                  float64\n",
       "LUCRO_LIQUIDO         float64\n",
       "NRO_ACOES             float64\n",
       "CRES_REC_(5A)         float64\n",
       "ROIC                  float64\n",
       "LIQUIDEZ_CORR         float64\n",
       "SETOR                category\n",
       "SUBSETOR             category\n",
       "DEPOSITOS             float64\n",
       "CART_DE_CREDITO       float64\n",
       "RESULT_INT_FINANC     float64\n",
       "REC_SERVICOS          float64\n",
       "PRECO_2020_04_15      float64\n",
       "LPA                   float64\n",
       "VPA                   float64\n",
       "P/L                   float64\n",
       "P/VP                  float64\n",
       "P/EBIT                float64\n",
       "MARKET_CAP            float64\n",
       "EV                    float64\n",
       "EV/EBIT               float64\n",
       "MARGEM_EBIT           float64\n",
       "MARGEM_LIQUIDA        float64\n",
       "ROE                   float64\n",
       "DIV_LIQ/PATR_LIQ      float64\n",
       "dtype: object"
      ]
     },
     "execution_count": 16,
     "metadata": {},
     "output_type": "execute_result"
    }
   ],
   "source": [
    "acoes.dtypes"
   ]
  },
  {
   "cell_type": "markdown",
   "metadata": {},
   "source": [
    "# Tratamento de dados ausentes\n",
    "\n",
    "- É possível perceber que há uma divisão entre pelo menos dois tipos distintos de ações, provavelmente entre empresas do subsetor bancário e as outras."
   ]
  },
  {
   "cell_type": "code",
   "execution_count": 17,
   "metadata": {},
   "outputs": [
    {
     "data": {
      "text/plain": [
       "ATIVO                  0\n",
       "DIV_BRUTA             41\n",
       "DISPONIBILIDADES      41\n",
       "DIV_LIQUIDA           41\n",
       "ATIVO_CIRCULANTE      41\n",
       "PATRIM_LIQ             0\n",
       "RECEITA_LIQUIDA       41\n",
       "EBIT                  41\n",
       "LUCRO_LIQUIDO          0\n",
       "NRO_ACOES              0\n",
       "CRES_REC_(5A)         25\n",
       "ROIC                  62\n",
       "LIQUIDEZ_CORR         62\n",
       "SETOR                  1\n",
       "SUBSETOR               1\n",
       "DEPOSITOS            402\n",
       "CART_DE_CREDITO      402\n",
       "RESULT_INT_FINANC    402\n",
       "REC_SERVICOS         402\n",
       "PRECO_2020_04_15       0\n",
       "LPA                    0\n",
       "VPA                    0\n",
       "P/L                    0\n",
       "P/VP                   0\n",
       "P/EBIT                41\n",
       "MARKET_CAP             0\n",
       "EV                    41\n",
       "EV/EBIT               41\n",
       "MARGEM_EBIT           45\n",
       "MARGEM_LIQUIDA        45\n",
       "ROE                    4\n",
       "DIV_LIQ/PATR_LIQ      45\n",
       "dtype: int64"
      ]
     },
     "execution_count": 17,
     "metadata": {},
     "output_type": "execute_result"
    }
   ],
   "source": [
    "acoes.isna().sum()"
   ]
  },
  {
   "cell_type": "code",
   "execution_count": 18,
   "metadata": {},
   "outputs": [
    {
     "data": {
      "text/plain": [
       "<AxesSubplot:>"
      ]
     },
     "execution_count": 18,
     "metadata": {},
     "output_type": "execute_result"
    },
    {
     "data": {
      "image/png": "[encoded data removed]",
      "text/plain": [
       "<Figure size 720x504 with 1 Axes>"
      ]
     },
     "metadata": {
      "needs_background": "light"
     },
     "output_type": "display_data"
    }
   ],
   "source": [
    "acoes.isna().sum().plot.bar(rot=70, figsize=(10, 7))"
   ]
  },
  {
   "cell_type": "code",
   "execution_count": 19,
   "metadata": {},
   "outputs": [
    {
     "name": "stdout",
     "output_type": "stream",
     "text": [
      "(52, 32)\n",
      "(52, 32)\n"
     ]
    },
    {
     "data": {
      "text/plain": [
       "<AxesSubplot:>"
      ]
     },
     "execution_count": 19,
     "metadata": {},
     "output_type": "execute_result"
    },
    {
     "data": {
      "image/png": "[encoded data removed]",
      "text/plain": [
       "<Figure size 720x504 with 1 Axes>"
      ]
     },
     "metadata": {
      "needs_background": "light"
     },
     "output_type": "display_data"
    }
   ],
   "source": [
    "bancos = acoes[acoes['SUBSETOR'].isin(['BANCOS', 'SOC_CREDITO_E_FINANCIAMENTO'])]\n",
    "print(bancos.shape)\n",
    "\n",
    "comuns = acoes[~acoes['SUBSETOR'].isin(['BANCOS', 'SOC_CREDITO_E_FINANCIAMENTO'])]\n",
    "print(bancos.shape)\n",
    "\n",
    "pd.DataFrame({'bancos':bancos.isna().sum()/len(bancos), 'nao_bancos':comuns.isna().sum()/len(comuns)}).plot.bar(rot=70, figsize=(10, 7))"
   ]
  },
  {
   "cell_type": "markdown",
   "metadata": {},
   "source": [
    "A estratégia de inputação dos dados ausentes aqui vai se basear no subsetor de cada ativo, mais especificamente nessa divisião entre setor bancário/outros setores.\n",
    "\n",
    "Para os que pertencem ao setor bancário, os atributos que são característicos desse setor (`DEPOSITOS`, `CART_DE_CREDITO`, etc) serão imputados com zero juntamente com os que não pertencem a esse setor pois são apenas 3 empresas (`BRGE`, `ITSA`, `RPAD`), que na verdade são holdings ou consórcios financeiros que possuem valores ausentes, então serão tratadas como empresas comuns.\n",
    "O contrário também será aplicado."
   ]
  },
  {
   "cell_type": "code",
   "execution_count": 20,
   "metadata": {},
   "outputs": [
    {
     "data": {
      "text/plain": [
       "Index(['BRGE11', 'BRGE12', 'BRGE3', 'BRGE5', 'BRGE6', 'BRGE8', 'ITSA3',\n",
       "       'ITSA4', 'RPAD3', 'RPAD5', 'RPAD6'],\n",
       "      dtype='object', name='ticker')"
      ]
     },
     "execution_count": 20,
     "metadata": {},
     "output_type": "execute_result"
    }
   ],
   "source": [
    "# AS EMPRESAS QUE ESTAO NO SUBSETOR BANCARIO E POSSUEM VALORES AUSENTES PARA ATRIBUTOS\n",
    "# CARACTERISTICOS DESSE SUBSETOR SÃO APENAS 3\n",
    "bancos[(bancos['DEPOSITOS'].isna()) | (bancos['CART_DE_CREDITO'].isna())\n",
    "       | (bancos['RESULT_INT_FINANC'].isna()) | (bancos['REC_SERVICOS'].isna())].index"
   ]
  },
  {
   "cell_type": "code",
   "execution_count": 21,
   "metadata": {},
   "outputs": [
    {
     "name": "stderr",
     "output_type": "stream",
     "text": [
      "/home/adilson/.anaconda3/envs/if697/lib/python3.8/site-packages/pandas/core/frame.py:3065: SettingWithCopyWarning: \n",
      "A value is trying to be set on a copy of a slice from a DataFrame.\n",
      "Try using .loc[row_indexer,col_indexer] = value instead\n",
      "\n",
      "See the caveats in the documentation: https://pandas.pydata.org/pandas-docs/stable/user_guide/indexing.html#returning-a-view-versus-a-copy\n",
      "  self[k1] = value[k2]\n"
     ]
    }
   ],
   "source": [
    "attrs_bancos = ['DEPOSITOS', 'CART_DE_CREDITO', 'RESULT_INT_FINANC', 'REC_SERVICOS']\n",
    "\n",
    "bancos[attrs_bancos] = bancos[attrs_bancos].fillna(value=0)\n",
    "comuns[attrs_bancos] = comuns[attrs_bancos].fillna(value=0)\n",
    "\n",
    "\n",
    "attrs_comuns = ['DIV_BRUTA', 'DISPONIBILIDADES', 'DIV_LIQUIDA', 'ATIVO_CIRCULANTE', 'PATRIM_LIQ',\n",
    "                'RECEITA_LIQUIDA', 'EBIT', 'ROIC', 'LIQUIDEZ_CORR', 'P/EBIT', 'EV', 'EV/EBIT',\n",
    "                'MARGEM_EBIT', 'MARGEM_LIQUIDA', 'DIV_LIQ/PATR_LIQ']\n",
    "\n",
    "bancos[attrs_comuns] = bancos[attrs_comuns].fillna(value=0)"
   ]
  },
  {
   "cell_type": "code",
   "execution_count": 22,
   "metadata": {},
   "outputs": [
    {
     "data": {
      "text/plain": [
       "<AxesSubplot:>"
      ]
     },
     "execution_count": 22,
     "metadata": {},
     "output_type": "execute_result"
    },
    {
     "data": {
      "image/png": "[encoded data removed]",
      "text/plain": [
       "<Figure size 720x504 with 1 Axes>"
      ]
     },
     "metadata": {
      "needs_background": "light"
     },
     "output_type": "display_data"
    }
   ],
   "source": [
    "pd.DataFrame(\n",
    "    {'bancos': bancos.isna().sum()/len(bancos), 'nao_bancos': comuns.isna().sum()/len(comuns)}\n",
    ").plot.bar(rot=70, figsize=(10, 7))"
   ]
  },
  {
   "cell_type": "code",
   "execution_count": 23,
   "metadata": {},
   "outputs": [],
   "source": [
    "acoes = pd.concat([bancos, comuns])"
   ]
  },
  {
   "cell_type": "code",
   "execution_count": 24,
   "metadata": {},
   "outputs": [
    {
     "data": {
      "text/plain": [
       "<AxesSubplot:>"
      ]
     },
     "execution_count": 24,
     "metadata": {},
     "output_type": "execute_result"
    },
    {
     "data": {
      "image/png": "[encoded data removed]",
      "text/plain": [
       "<Figure size 720x504 with 1 Axes>"
      ]
     },
     "metadata": {
      "needs_background": "light"
     },
     "output_type": "display_data"
    }
   ],
   "source": [
    "acoes.isna().sum().plot.bar(rot=70, figsize=(10, 7))"
   ]
  },
  {
   "cell_type": "markdown",
   "metadata": {},
   "source": [
    "**Para valores ausentes restantes** será utilizado o **KNNImputer** do sklearn, e para isso é preciso codificar numericamente os atributos categóricos e normalizar os valores para a extensão dos atributos não influenciar o cálculo da distância no KNN"
   ]
  },
  {
   "cell_type": "code",
   "execution_count": 25,
   "metadata": {},
   "outputs": [
    {
     "data": {
      "text/html": [
       "<div>\n",
       "<style scoped>\n",
       "    .dataframe tbody tr th:only-of-type {\n",
       "        vertical-align: middle;\n",
       "    }\n",
       "\n",
       "    .dataframe tbody tr th {\n",
       "        vertical-align: top;\n",
       "    }\n",
       "\n",
       "    .dataframe thead th {\n",
       "        text-align: right;\n",
       "    }\n",
       "</style>\n",
       "<table border=\"1\" class=\"dataframe\">\n",
       "  <thead>\n",
       "    <tr style=\"text-align: right;\">\n",
       "      <th></th>\n",
       "      <th>ATIVO</th>\n",
       "      <th>DIV_BRUTA</th>\n",
       "      <th>DISPONIBILIDADES</th>\n",
       "      <th>DIV_LIQUIDA</th>\n",
       "      <th>ATIVO_CIRCULANTE</th>\n",
       "      <th>PATRIM_LIQ</th>\n",
       "      <th>RECEITA_LIQUIDA</th>\n",
       "      <th>EBIT</th>\n",
       "      <th>LUCRO_LIQUIDO</th>\n",
       "      <th>NRO_ACOES</th>\n",
       "      <th>...</th>\n",
       "      <th>SUBSETOR_TECIDOS_VESTUARIO_E_CALCADOS</th>\n",
       "      <th>SUBSETOR_TELEFONIA_FIXA</th>\n",
       "      <th>SUBSETOR_TELEFONIA_MOVEL</th>\n",
       "      <th>SUBSETOR_TRANSPORTE_AEREO</th>\n",
       "      <th>SUBSETOR_TRANSPORTE_FERROVIARIO</th>\n",
       "      <th>SUBSETOR_TRANSPORTE_HIDROVIARIO</th>\n",
       "      <th>SUBSETOR_TRANSPORTE_RODOVIARIO</th>\n",
       "      <th>SUBSETOR_UTENSILIOS_DOMESTICOS</th>\n",
       "      <th>SUBSETOR_VESTUARIO</th>\n",
       "      <th>SUBSETOR_VIAGENS_E_TURISMO</th>\n",
       "    </tr>\n",
       "    <tr>\n",
       "      <th>ticker</th>\n",
       "      <th></th>\n",
       "      <th></th>\n",
       "      <th></th>\n",
       "      <th></th>\n",
       "      <th></th>\n",
       "      <th></th>\n",
       "      <th></th>\n",
       "      <th></th>\n",
       "      <th></th>\n",
       "      <th></th>\n",
       "      <th></th>\n",
       "      <th></th>\n",
       "      <th></th>\n",
       "      <th></th>\n",
       "      <th></th>\n",
       "      <th></th>\n",
       "      <th></th>\n",
       "      <th></th>\n",
       "      <th></th>\n",
       "      <th></th>\n",
       "      <th></th>\n",
       "    </tr>\n",
       "  </thead>\n",
       "  <tbody>\n",
       "    <tr>\n",
       "      <th>ABCB4</th>\n",
       "      <td>4.989580e+10</td>\n",
       "      <td>0.0</td>\n",
       "      <td>0.0</td>\n",
       "      <td>0.0</td>\n",
       "      <td>0.0</td>\n",
       "      <td>4.093300e+09</td>\n",
       "      <td>0.0</td>\n",
       "      <td>0.0</td>\n",
       "      <td>4.187330e+08</td>\n",
       "      <td>2.183590e+08</td>\n",
       "      <td>...</td>\n",
       "      <td>0</td>\n",
       "      <td>0</td>\n",
       "      <td>0</td>\n",
       "      <td>0</td>\n",
       "      <td>0</td>\n",
       "      <td>0</td>\n",
       "      <td>0</td>\n",
       "      <td>0</td>\n",
       "      <td>0</td>\n",
       "      <td>0</td>\n",
       "    </tr>\n",
       "    <tr>\n",
       "      <th>BAZA3</th>\n",
       "      <td>2.051230e+10</td>\n",
       "      <td>0.0</td>\n",
       "      <td>0.0</td>\n",
       "      <td>0.0</td>\n",
       "      <td>0.0</td>\n",
       "      <td>2.316530e+09</td>\n",
       "      <td>0.0</td>\n",
       "      <td>0.0</td>\n",
       "      <td>3.250920e+08</td>\n",
       "      <td>2.964600e+07</td>\n",
       "      <td>...</td>\n",
       "      <td>0</td>\n",
       "      <td>0</td>\n",
       "      <td>0</td>\n",
       "      <td>0</td>\n",
       "      <td>0</td>\n",
       "      <td>0</td>\n",
       "      <td>0</td>\n",
       "      <td>0</td>\n",
       "      <td>0</td>\n",
       "      <td>0</td>\n",
       "    </tr>\n",
       "    <tr>\n",
       "      <th>BBAS3</th>\n",
       "      <td>1.780470e+12</td>\n",
       "      <td>0.0</td>\n",
       "      <td>0.0</td>\n",
       "      <td>0.0</td>\n",
       "      <td>0.0</td>\n",
       "      <td>1.050070e+11</td>\n",
       "      <td>0.0</td>\n",
       "      <td>0.0</td>\n",
       "      <td>1.612730e+10</td>\n",
       "      <td>2.865420e+09</td>\n",
       "      <td>...</td>\n",
       "      <td>0</td>\n",
       "      <td>0</td>\n",
       "      <td>0</td>\n",
       "      <td>0</td>\n",
       "      <td>0</td>\n",
       "      <td>0</td>\n",
       "      <td>0</td>\n",
       "      <td>0</td>\n",
       "      <td>0</td>\n",
       "      <td>0</td>\n",
       "    </tr>\n",
       "    <tr>\n",
       "      <th>BBDC3</th>\n",
       "      <td>1.329520e+12</td>\n",
       "      <td>0.0</td>\n",
       "      <td>0.0</td>\n",
       "      <td>0.0</td>\n",
       "      <td>0.0</td>\n",
       "      <td>1.351340e+11</td>\n",
       "      <td>0.0</td>\n",
       "      <td>0.0</td>\n",
       "      <td>1.760820e+10</td>\n",
       "      <td>8.870210e+09</td>\n",
       "      <td>...</td>\n",
       "      <td>0</td>\n",
       "      <td>0</td>\n",
       "      <td>0</td>\n",
       "      <td>0</td>\n",
       "      <td>0</td>\n",
       "      <td>0</td>\n",
       "      <td>0</td>\n",
       "      <td>0</td>\n",
       "      <td>0</td>\n",
       "      <td>0</td>\n",
       "    </tr>\n",
       "    <tr>\n",
       "      <th>BBDC4</th>\n",
       "      <td>1.329520e+12</td>\n",
       "      <td>0.0</td>\n",
       "      <td>0.0</td>\n",
       "      <td>0.0</td>\n",
       "      <td>0.0</td>\n",
       "      <td>1.351340e+11</td>\n",
       "      <td>0.0</td>\n",
       "      <td>0.0</td>\n",
       "      <td>1.760820e+10</td>\n",
       "      <td>8.870210e+09</td>\n",
       "      <td>...</td>\n",
       "      <td>0</td>\n",
       "      <td>0</td>\n",
       "      <td>0</td>\n",
       "      <td>0</td>\n",
       "      <td>0</td>\n",
       "      <td>0</td>\n",
       "      <td>0</td>\n",
       "      <td>0</td>\n",
       "      <td>0</td>\n",
       "      <td>0</td>\n",
       "    </tr>\n",
       "  </tbody>\n",
       "</table>\n",
       "<p>5 rows × 146 columns</p>\n",
       "</div>"
      ],
      "text/plain": [
       "               ATIVO  DIV_BRUTA  DISPONIBILIDADES  DIV_LIQUIDA  \\\n",
       "ticker                                                           \n",
       "ABCB4   4.989580e+10        0.0               0.0          0.0   \n",
       "BAZA3   2.051230e+10        0.0               0.0          0.0   \n",
       "BBAS3   1.780470e+12        0.0               0.0          0.0   \n",
       "BBDC3   1.329520e+12        0.0               0.0          0.0   \n",
       "BBDC4   1.329520e+12        0.0               0.0          0.0   \n",
       "\n",
       "        ATIVO_CIRCULANTE    PATRIM_LIQ  RECEITA_LIQUIDA  EBIT  LUCRO_LIQUIDO  \\\n",
       "ticker                                                                         \n",
       "ABCB4                0.0  4.093300e+09              0.0   0.0   4.187330e+08   \n",
       "BAZA3                0.0  2.316530e+09              0.0   0.0   3.250920e+08   \n",
       "BBAS3                0.0  1.050070e+11              0.0   0.0   1.612730e+10   \n",
       "BBDC3                0.0  1.351340e+11              0.0   0.0   1.760820e+10   \n",
       "BBDC4                0.0  1.351340e+11              0.0   0.0   1.760820e+10   \n",
       "\n",
       "           NRO_ACOES  ...  SUBSETOR_TECIDOS_VESTUARIO_E_CALCADOS  \\\n",
       "ticker                ...                                          \n",
       "ABCB4   2.183590e+08  ...                                      0   \n",
       "BAZA3   2.964600e+07  ...                                      0   \n",
       "BBAS3   2.865420e+09  ...                                      0   \n",
       "BBDC3   8.870210e+09  ...                                      0   \n",
       "BBDC4   8.870210e+09  ...                                      0   \n",
       "\n",
       "        SUBSETOR_TELEFONIA_FIXA  SUBSETOR_TELEFONIA_MOVEL  \\\n",
       "ticker                                                      \n",
       "ABCB4                         0                         0   \n",
       "BAZA3                         0                         0   \n",
       "BBAS3                         0                         0   \n",
       "BBDC3                         0                         0   \n",
       "BBDC4                         0                         0   \n",
       "\n",
       "        SUBSETOR_TRANSPORTE_AEREO  SUBSETOR_TRANSPORTE_FERROVIARIO  \\\n",
       "ticker                                                               \n",
       "ABCB4                           0                                0   \n",
       "BAZA3                           0                                0   \n",
       "BBAS3                           0                                0   \n",
       "BBDC3                           0                                0   \n",
       "BBDC4                           0                                0   \n",
       "\n",
       "        SUBSETOR_TRANSPORTE_HIDROVIARIO  SUBSETOR_TRANSPORTE_RODOVIARIO  \\\n",
       "ticker                                                                    \n",
       "ABCB4                                 0                               0   \n",
       "BAZA3                                 0                               0   \n",
       "BBAS3                                 0                               0   \n",
       "BBDC3                                 0                               0   \n",
       "BBDC4                                 0                               0   \n",
       "\n",
       "        SUBSETOR_UTENSILIOS_DOMESTICOS  SUBSETOR_VESTUARIO  \\\n",
       "ticker                                                       \n",
       "ABCB4                                0                   0   \n",
       "BAZA3                                0                   0   \n",
       "BBAS3                                0                   0   \n",
       "BBDC3                                0                   0   \n",
       "BBDC4                                0                   0   \n",
       "\n",
       "        SUBSETOR_VIAGENS_E_TURISMO  \n",
       "ticker                              \n",
       "ABCB4                            0  \n",
       "BAZA3                            0  \n",
       "BBAS3                            0  \n",
       "BBDC3                            0  \n",
       "BBDC4                            0  \n",
       "\n",
       "[5 rows x 146 columns]"
      ]
     },
     "execution_count": 25,
     "metadata": {},
     "output_type": "execute_result"
    }
   ],
   "source": [
    "# One hot encoding com .get_dummies\n",
    "acoes_c = pd.get_dummies(acoes, drop_first=True)\n",
    "acoes_c = acoes_c.replace([np.inf, -np.inf], np.nan)\n",
    "acoes_c.head()"
   ]
  },
  {
   "cell_type": "code",
   "execution_count": 26,
   "metadata": {},
   "outputs": [
    {
     "data": {
      "text/html": [
       "<div>\n",
       "<style scoped>\n",
       "    .dataframe tbody tr th:only-of-type {\n",
       "        vertical-align: middle;\n",
       "    }\n",
       "\n",
       "    .dataframe tbody tr th {\n",
       "        vertical-align: top;\n",
       "    }\n",
       "\n",
       "    .dataframe thead th {\n",
       "        text-align: right;\n",
       "    }\n",
       "</style>\n",
       "<table border=\"1\" class=\"dataframe\">\n",
       "  <thead>\n",
       "    <tr style=\"text-align: right;\">\n",
       "      <th></th>\n",
       "      <th>ATIVO</th>\n",
       "      <th>DIV_BRUTA</th>\n",
       "      <th>DISPONIBILIDADES</th>\n",
       "      <th>DIV_LIQUIDA</th>\n",
       "      <th>ATIVO_CIRCULANTE</th>\n",
       "      <th>PATRIM_LIQ</th>\n",
       "      <th>RECEITA_LIQUIDA</th>\n",
       "      <th>EBIT</th>\n",
       "      <th>LUCRO_LIQUIDO</th>\n",
       "      <th>NRO_ACOES</th>\n",
       "      <th>...</th>\n",
       "      <th>SUBSETOR_TECIDOS_VESTUARIO_E_CALCADOS</th>\n",
       "      <th>SUBSETOR_TELEFONIA_FIXA</th>\n",
       "      <th>SUBSETOR_TELEFONIA_MOVEL</th>\n",
       "      <th>SUBSETOR_TRANSPORTE_AEREO</th>\n",
       "      <th>SUBSETOR_TRANSPORTE_FERROVIARIO</th>\n",
       "      <th>SUBSETOR_TRANSPORTE_HIDROVIARIO</th>\n",
       "      <th>SUBSETOR_TRANSPORTE_RODOVIARIO</th>\n",
       "      <th>SUBSETOR_UTENSILIOS_DOMESTICOS</th>\n",
       "      <th>SUBSETOR_VESTUARIO</th>\n",
       "      <th>SUBSETOR_VIAGENS_E_TURISMO</th>\n",
       "    </tr>\n",
       "    <tr>\n",
       "      <th>ticker</th>\n",
       "      <th></th>\n",
       "      <th></th>\n",
       "      <th></th>\n",
       "      <th></th>\n",
       "      <th></th>\n",
       "      <th></th>\n",
       "      <th></th>\n",
       "      <th></th>\n",
       "      <th></th>\n",
       "      <th></th>\n",
       "      <th></th>\n",
       "      <th></th>\n",
       "      <th></th>\n",
       "      <th></th>\n",
       "      <th></th>\n",
       "      <th></th>\n",
       "      <th></th>\n",
       "      <th></th>\n",
       "      <th></th>\n",
       "      <th></th>\n",
       "      <th></th>\n",
       "    </tr>\n",
       "  </thead>\n",
       "  <tbody>\n",
       "    <tr>\n",
       "      <th>ABCB4</th>\n",
       "      <td>0.028024</td>\n",
       "      <td>0.0</td>\n",
       "      <td>0.0</td>\n",
       "      <td>0.033805</td>\n",
       "      <td>0.0</td>\n",
       "      <td>0.066841</td>\n",
       "      <td>0.00077</td>\n",
       "      <td>0.031023</td>\n",
       "      <td>0.638280</td>\n",
       "      <td>0.013876</td>\n",
       "      <td>...</td>\n",
       "      <td>0.0</td>\n",
       "      <td>0.0</td>\n",
       "      <td>0.0</td>\n",
       "      <td>0.0</td>\n",
       "      <td>0.0</td>\n",
       "      <td>0.0</td>\n",
       "      <td>0.0</td>\n",
       "      <td>0.0</td>\n",
       "      <td>0.0</td>\n",
       "      <td>0.0</td>\n",
       "    </tr>\n",
       "    <tr>\n",
       "      <th>BAZA3</th>\n",
       "      <td>0.011521</td>\n",
       "      <td>0.0</td>\n",
       "      <td>0.0</td>\n",
       "      <td>0.033805</td>\n",
       "      <td>0.0</td>\n",
       "      <td>0.059894</td>\n",
       "      <td>0.00077</td>\n",
       "      <td>0.031023</td>\n",
       "      <td>0.636544</td>\n",
       "      <td>0.001883</td>\n",
       "      <td>...</td>\n",
       "      <td>0.0</td>\n",
       "      <td>0.0</td>\n",
       "      <td>0.0</td>\n",
       "      <td>0.0</td>\n",
       "      <td>0.0</td>\n",
       "      <td>0.0</td>\n",
       "      <td>0.0</td>\n",
       "      <td>0.0</td>\n",
       "      <td>0.0</td>\n",
       "      <td>0.0</td>\n",
       "    </tr>\n",
       "    <tr>\n",
       "      <th>BBAS3</th>\n",
       "      <td>1.000000</td>\n",
       "      <td>0.0</td>\n",
       "      <td>0.0</td>\n",
       "      <td>0.033805</td>\n",
       "      <td>0.0</td>\n",
       "      <td>0.461392</td>\n",
       "      <td>0.00077</td>\n",
       "      <td>0.031023</td>\n",
       "      <td>0.929623</td>\n",
       "      <td>0.182103</td>\n",
       "      <td>...</td>\n",
       "      <td>0.0</td>\n",
       "      <td>0.0</td>\n",
       "      <td>0.0</td>\n",
       "      <td>0.0</td>\n",
       "      <td>0.0</td>\n",
       "      <td>0.0</td>\n",
       "      <td>0.0</td>\n",
       "      <td>0.0</td>\n",
       "      <td>0.0</td>\n",
       "      <td>0.0</td>\n",
       "    </tr>\n",
       "    <tr>\n",
       "      <th>BBDC3</th>\n",
       "      <td>0.746724</td>\n",
       "      <td>0.0</td>\n",
       "      <td>0.0</td>\n",
       "      <td>0.033805</td>\n",
       "      <td>0.0</td>\n",
       "      <td>0.579182</td>\n",
       "      <td>0.00077</td>\n",
       "      <td>0.031023</td>\n",
       "      <td>0.957088</td>\n",
       "      <td>0.563721</td>\n",
       "      <td>...</td>\n",
       "      <td>0.0</td>\n",
       "      <td>0.0</td>\n",
       "      <td>0.0</td>\n",
       "      <td>0.0</td>\n",
       "      <td>0.0</td>\n",
       "      <td>0.0</td>\n",
       "      <td>0.0</td>\n",
       "      <td>0.0</td>\n",
       "      <td>0.0</td>\n",
       "      <td>0.0</td>\n",
       "    </tr>\n",
       "    <tr>\n",
       "      <th>BBDC4</th>\n",
       "      <td>0.746724</td>\n",
       "      <td>0.0</td>\n",
       "      <td>0.0</td>\n",
       "      <td>0.033805</td>\n",
       "      <td>0.0</td>\n",
       "      <td>0.579182</td>\n",
       "      <td>0.00077</td>\n",
       "      <td>0.031023</td>\n",
       "      <td>0.957088</td>\n",
       "      <td>0.563721</td>\n",
       "      <td>...</td>\n",
       "      <td>0.0</td>\n",
       "      <td>0.0</td>\n",
       "      <td>0.0</td>\n",
       "      <td>0.0</td>\n",
       "      <td>0.0</td>\n",
       "      <td>0.0</td>\n",
       "      <td>0.0</td>\n",
       "      <td>0.0</td>\n",
       "      <td>0.0</td>\n",
       "      <td>0.0</td>\n",
       "    </tr>\n",
       "  </tbody>\n",
       "</table>\n",
       "<p>5 rows × 146 columns</p>\n",
       "</div>"
      ],
      "text/plain": [
       "           ATIVO  DIV_BRUTA  DISPONIBILIDADES  DIV_LIQUIDA  ATIVO_CIRCULANTE  \\\n",
       "ticker                                                                         \n",
       "ABCB4   0.028024        0.0               0.0     0.033805               0.0   \n",
       "BAZA3   0.011521        0.0               0.0     0.033805               0.0   \n",
       "BBAS3   1.000000        0.0               0.0     0.033805               0.0   \n",
       "BBDC3   0.746724        0.0               0.0     0.033805               0.0   \n",
       "BBDC4   0.746724        0.0               0.0     0.033805               0.0   \n",
       "\n",
       "        PATRIM_LIQ  RECEITA_LIQUIDA      EBIT  LUCRO_LIQUIDO  NRO_ACOES  ...  \\\n",
       "ticker                                                                   ...   \n",
       "ABCB4     0.066841          0.00077  0.031023       0.638280   0.013876  ...   \n",
       "BAZA3     0.059894          0.00077  0.031023       0.636544   0.001883  ...   \n",
       "BBAS3     0.461392          0.00077  0.031023       0.929623   0.182103  ...   \n",
       "BBDC3     0.579182          0.00077  0.031023       0.957088   0.563721  ...   \n",
       "BBDC4     0.579182          0.00077  0.031023       0.957088   0.563721  ...   \n",
       "\n",
       "        SUBSETOR_TECIDOS_VESTUARIO_E_CALCADOS  SUBSETOR_TELEFONIA_FIXA  \\\n",
       "ticker                                                                   \n",
       "ABCB4                                     0.0                      0.0   \n",
       "BAZA3                                     0.0                      0.0   \n",
       "BBAS3                                     0.0                      0.0   \n",
       "BBDC3                                     0.0                      0.0   \n",
       "BBDC4                                     0.0                      0.0   \n",
       "\n",
       "        SUBSETOR_TELEFONIA_MOVEL  SUBSETOR_TRANSPORTE_AEREO  \\\n",
       "ticker                                                        \n",
       "ABCB4                        0.0                        0.0   \n",
       "BAZA3                        0.0                        0.0   \n",
       "BBAS3                        0.0                        0.0   \n",
       "BBDC3                        0.0                        0.0   \n",
       "BBDC4                        0.0                        0.0   \n",
       "\n",
       "        SUBSETOR_TRANSPORTE_FERROVIARIO  SUBSETOR_TRANSPORTE_HIDROVIARIO  \\\n",
       "ticker                                                                     \n",
       "ABCB4                               0.0                              0.0   \n",
       "BAZA3                               0.0                              0.0   \n",
       "BBAS3                               0.0                              0.0   \n",
       "BBDC3                               0.0                              0.0   \n",
       "BBDC4                               0.0                              0.0   \n",
       "\n",
       "        SUBSETOR_TRANSPORTE_RODOVIARIO  SUBSETOR_UTENSILIOS_DOMESTICOS  \\\n",
       "ticker                                                                   \n",
       "ABCB4                              0.0                             0.0   \n",
       "BAZA3                              0.0                             0.0   \n",
       "BBAS3                              0.0                             0.0   \n",
       "BBDC3                              0.0                             0.0   \n",
       "BBDC4                              0.0                             0.0   \n",
       "\n",
       "        SUBSETOR_VESTUARIO  SUBSETOR_VIAGENS_E_TURISMO  \n",
       "ticker                                                  \n",
       "ABCB4                  0.0                         0.0  \n",
       "BAZA3                  0.0                         0.0  \n",
       "BBAS3                  0.0                         0.0  \n",
       "BBDC3                  0.0                         0.0  \n",
       "BBDC4                  0.0                         0.0  \n",
       "\n",
       "[5 rows x 146 columns]"
      ]
     },
     "execution_count": 26,
     "metadata": {},
     "output_type": "execute_result"
    }
   ],
   "source": [
    "acoes_norm = (acoes_c - acoes_c.min()) / (acoes_c.max() - acoes_c.min())\n",
    "acoes_norm.head()"
   ]
  },
  {
   "cell_type": "code",
   "execution_count": 27,
   "metadata": {},
   "outputs": [],
   "source": [
    "from sklearn.impute import KNNImputer\n",
    "imputer = KNNImputer(missing_values=np.nan, n_neighbors=5)"
   ]
  },
  {
   "cell_type": "code",
   "execution_count": 28,
   "metadata": {},
   "outputs": [],
   "source": [
    "acoes_one_hot = pd.DataFrame(imputer.fit_transform(acoes_norm), index=acoes_norm.index, columns=acoes_norm.columns)"
   ]
  },
  {
   "cell_type": "markdown",
   "metadata": {},
   "source": [
    "Desfazendo a normalização"
   ]
  },
  {
   "cell_type": "code",
   "execution_count": 29,
   "metadata": {},
   "outputs": [],
   "source": [
    "acoes_one_hot = acoes_one_hot * (acoes_c.max() - acoes_c.min()) + acoes_c.min()"
   ]
  },
  {
   "cell_type": "code",
   "execution_count": 30,
   "metadata": {},
   "outputs": [
    {
     "data": {
      "text/html": [
       "<div>\n",
       "<style scoped>\n",
       "    .dataframe tbody tr th:only-of-type {\n",
       "        vertical-align: middle;\n",
       "    }\n",
       "\n",
       "    .dataframe tbody tr th {\n",
       "        vertical-align: top;\n",
       "    }\n",
       "\n",
       "    .dataframe thead th {\n",
       "        text-align: right;\n",
       "    }\n",
       "</style>\n",
       "<table border=\"1\" class=\"dataframe\">\n",
       "  <thead>\n",
       "    <tr style=\"text-align: right;\">\n",
       "      <th></th>\n",
       "      <th>ATIVO</th>\n",
       "      <th>DIV_BRUTA</th>\n",
       "      <th>DISPONIBILIDADES</th>\n",
       "      <th>DIV_LIQUIDA</th>\n",
       "      <th>ATIVO_CIRCULANTE</th>\n",
       "      <th>PATRIM_LIQ</th>\n",
       "      <th>RECEITA_LIQUIDA</th>\n",
       "      <th>EBIT</th>\n",
       "      <th>LUCRO_LIQUIDO</th>\n",
       "      <th>NRO_ACOES</th>\n",
       "      <th>...</th>\n",
       "      <th>SUBSETOR_TECIDOS_VESTUARIO_E_CALCADOS</th>\n",
       "      <th>SUBSETOR_TELEFONIA_FIXA</th>\n",
       "      <th>SUBSETOR_TELEFONIA_MOVEL</th>\n",
       "      <th>SUBSETOR_TRANSPORTE_AEREO</th>\n",
       "      <th>SUBSETOR_TRANSPORTE_FERROVIARIO</th>\n",
       "      <th>SUBSETOR_TRANSPORTE_HIDROVIARIO</th>\n",
       "      <th>SUBSETOR_TRANSPORTE_RODOVIARIO</th>\n",
       "      <th>SUBSETOR_UTENSILIOS_DOMESTICOS</th>\n",
       "      <th>SUBSETOR_VESTUARIO</th>\n",
       "      <th>SUBSETOR_VIAGENS_E_TURISMO</th>\n",
       "    </tr>\n",
       "    <tr>\n",
       "      <th>ticker</th>\n",
       "      <th></th>\n",
       "      <th></th>\n",
       "      <th></th>\n",
       "      <th></th>\n",
       "      <th></th>\n",
       "      <th></th>\n",
       "      <th></th>\n",
       "      <th></th>\n",
       "      <th></th>\n",
       "      <th></th>\n",
       "      <th></th>\n",
       "      <th></th>\n",
       "      <th></th>\n",
       "      <th></th>\n",
       "      <th></th>\n",
       "      <th></th>\n",
       "      <th></th>\n",
       "      <th></th>\n",
       "      <th></th>\n",
       "      <th></th>\n",
       "      <th></th>\n",
       "    </tr>\n",
       "  </thead>\n",
       "  <tbody>\n",
       "    <tr>\n",
       "      <th>ABCB4</th>\n",
       "      <td>4.989580e+10</td>\n",
       "      <td>0.0</td>\n",
       "      <td>0.0</td>\n",
       "      <td>0.0</td>\n",
       "      <td>0.0</td>\n",
       "      <td>4.093300e+09</td>\n",
       "      <td>0.0</td>\n",
       "      <td>0.0</td>\n",
       "      <td>4.187330e+08</td>\n",
       "      <td>2.183590e+08</td>\n",
       "      <td>...</td>\n",
       "      <td>0.0</td>\n",
       "      <td>0.0</td>\n",
       "      <td>0.0</td>\n",
       "      <td>0.0</td>\n",
       "      <td>0.0</td>\n",
       "      <td>0.0</td>\n",
       "      <td>0.0</td>\n",
       "      <td>0.0</td>\n",
       "      <td>0.0</td>\n",
       "      <td>0.0</td>\n",
       "    </tr>\n",
       "    <tr>\n",
       "      <th>BAZA3</th>\n",
       "      <td>2.051230e+10</td>\n",
       "      <td>0.0</td>\n",
       "      <td>0.0</td>\n",
       "      <td>0.0</td>\n",
       "      <td>0.0</td>\n",
       "      <td>2.316530e+09</td>\n",
       "      <td>0.0</td>\n",
       "      <td>0.0</td>\n",
       "      <td>3.250920e+08</td>\n",
       "      <td>2.964600e+07</td>\n",
       "      <td>...</td>\n",
       "      <td>0.0</td>\n",
       "      <td>0.0</td>\n",
       "      <td>0.0</td>\n",
       "      <td>0.0</td>\n",
       "      <td>0.0</td>\n",
       "      <td>0.0</td>\n",
       "      <td>0.0</td>\n",
       "      <td>0.0</td>\n",
       "      <td>0.0</td>\n",
       "      <td>0.0</td>\n",
       "    </tr>\n",
       "    <tr>\n",
       "      <th>BBAS3</th>\n",
       "      <td>1.780470e+12</td>\n",
       "      <td>0.0</td>\n",
       "      <td>0.0</td>\n",
       "      <td>0.0</td>\n",
       "      <td>0.0</td>\n",
       "      <td>1.050070e+11</td>\n",
       "      <td>0.0</td>\n",
       "      <td>0.0</td>\n",
       "      <td>1.612730e+10</td>\n",
       "      <td>2.865420e+09</td>\n",
       "      <td>...</td>\n",
       "      <td>0.0</td>\n",
       "      <td>0.0</td>\n",
       "      <td>0.0</td>\n",
       "      <td>0.0</td>\n",
       "      <td>0.0</td>\n",
       "      <td>0.0</td>\n",
       "      <td>0.0</td>\n",
       "      <td>0.0</td>\n",
       "      <td>0.0</td>\n",
       "      <td>0.0</td>\n",
       "    </tr>\n",
       "    <tr>\n",
       "      <th>BBDC3</th>\n",
       "      <td>1.329520e+12</td>\n",
       "      <td>0.0</td>\n",
       "      <td>0.0</td>\n",
       "      <td>0.0</td>\n",
       "      <td>0.0</td>\n",
       "      <td>1.351340e+11</td>\n",
       "      <td>0.0</td>\n",
       "      <td>0.0</td>\n",
       "      <td>1.760820e+10</td>\n",
       "      <td>8.870210e+09</td>\n",
       "      <td>...</td>\n",
       "      <td>0.0</td>\n",
       "      <td>0.0</td>\n",
       "      <td>0.0</td>\n",
       "      <td>0.0</td>\n",
       "      <td>0.0</td>\n",
       "      <td>0.0</td>\n",
       "      <td>0.0</td>\n",
       "      <td>0.0</td>\n",
       "      <td>0.0</td>\n",
       "      <td>0.0</td>\n",
       "    </tr>\n",
       "    <tr>\n",
       "      <th>BBDC4</th>\n",
       "      <td>1.329520e+12</td>\n",
       "      <td>0.0</td>\n",
       "      <td>0.0</td>\n",
       "      <td>0.0</td>\n",
       "      <td>0.0</td>\n",
       "      <td>1.351340e+11</td>\n",
       "      <td>0.0</td>\n",
       "      <td>0.0</td>\n",
       "      <td>1.760820e+10</td>\n",
       "      <td>8.870210e+09</td>\n",
       "      <td>...</td>\n",
       "      <td>0.0</td>\n",
       "      <td>0.0</td>\n",
       "      <td>0.0</td>\n",
       "      <td>0.0</td>\n",
       "      <td>0.0</td>\n",
       "      <td>0.0</td>\n",
       "      <td>0.0</td>\n",
       "      <td>0.0</td>\n",
       "      <td>0.0</td>\n",
       "      <td>0.0</td>\n",
       "    </tr>\n",
       "  </tbody>\n",
       "</table>\n",
       "<p>5 rows × 146 columns</p>\n",
       "</div>"
      ],
      "text/plain": [
       "               ATIVO  DIV_BRUTA  DISPONIBILIDADES  DIV_LIQUIDA  \\\n",
       "ticker                                                           \n",
       "ABCB4   4.989580e+10        0.0               0.0          0.0   \n",
       "BAZA3   2.051230e+10        0.0               0.0          0.0   \n",
       "BBAS3   1.780470e+12        0.0               0.0          0.0   \n",
       "BBDC3   1.329520e+12        0.0               0.0          0.0   \n",
       "BBDC4   1.329520e+12        0.0               0.0          0.0   \n",
       "\n",
       "        ATIVO_CIRCULANTE    PATRIM_LIQ  RECEITA_LIQUIDA  EBIT  LUCRO_LIQUIDO  \\\n",
       "ticker                                                                         \n",
       "ABCB4                0.0  4.093300e+09              0.0   0.0   4.187330e+08   \n",
       "BAZA3                0.0  2.316530e+09              0.0   0.0   3.250920e+08   \n",
       "BBAS3                0.0  1.050070e+11              0.0   0.0   1.612730e+10   \n",
       "BBDC3                0.0  1.351340e+11              0.0   0.0   1.760820e+10   \n",
       "BBDC4                0.0  1.351340e+11              0.0   0.0   1.760820e+10   \n",
       "\n",
       "           NRO_ACOES  ...  SUBSETOR_TECIDOS_VESTUARIO_E_CALCADOS  \\\n",
       "ticker                ...                                          \n",
       "ABCB4   2.183590e+08  ...                                    0.0   \n",
       "BAZA3   2.964600e+07  ...                                    0.0   \n",
       "BBAS3   2.865420e+09  ...                                    0.0   \n",
       "BBDC3   8.870210e+09  ...                                    0.0   \n",
       "BBDC4   8.870210e+09  ...                                    0.0   \n",
       "\n",
       "        SUBSETOR_TELEFONIA_FIXA  SUBSETOR_TELEFONIA_MOVEL  \\\n",
       "ticker                                                      \n",
       "ABCB4                       0.0                       0.0   \n",
       "BAZA3                       0.0                       0.0   \n",
       "BBAS3                       0.0                       0.0   \n",
       "BBDC3                       0.0                       0.0   \n",
       "BBDC4                       0.0                       0.0   \n",
       "\n",
       "        SUBSETOR_TRANSPORTE_AEREO  SUBSETOR_TRANSPORTE_FERROVIARIO  \\\n",
       "ticker                                                               \n",
       "ABCB4                         0.0                              0.0   \n",
       "BAZA3                         0.0                              0.0   \n",
       "BBAS3                         0.0                              0.0   \n",
       "BBDC3                         0.0                              0.0   \n",
       "BBDC4                         0.0                              0.0   \n",
       "\n",
       "        SUBSETOR_TRANSPORTE_HIDROVIARIO  SUBSETOR_TRANSPORTE_RODOVIARIO  \\\n",
       "ticker                                                                    \n",
       "ABCB4                               0.0                             0.0   \n",
       "BAZA3                               0.0                             0.0   \n",
       "BBAS3                               0.0                             0.0   \n",
       "BBDC3                               0.0                             0.0   \n",
       "BBDC4                               0.0                             0.0   \n",
       "\n",
       "        SUBSETOR_UTENSILIOS_DOMESTICOS  SUBSETOR_VESTUARIO  \\\n",
       "ticker                                                       \n",
       "ABCB4                              0.0                 0.0   \n",
       "BAZA3                              0.0                 0.0   \n",
       "BBAS3                              0.0                 0.0   \n",
       "BBDC3                              0.0                 0.0   \n",
       "BBDC4                              0.0                 0.0   \n",
       "\n",
       "        SUBSETOR_VIAGENS_E_TURISMO  \n",
       "ticker                              \n",
       "ABCB4                          0.0  \n",
       "BAZA3                          0.0  \n",
       "BBAS3                          0.0  \n",
       "BBDC3                          0.0  \n",
       "BBDC4                          0.0  \n",
       "\n",
       "[5 rows x 146 columns]"
      ]
     },
     "execution_count": 30,
     "metadata": {},
     "output_type": "execute_result"
    }
   ],
   "source": [
    "acoes_one_hot.head()"
   ]
  },
  {
   "cell_type": "code",
   "execution_count": 31,
   "metadata": {},
   "outputs": [
    {
     "data": {
      "text/plain": [
       "Series([], dtype: int64)"
      ]
     },
     "execution_count": 31,
     "metadata": {},
     "output_type": "execute_result"
    }
   ],
   "source": [
    "# sem valores vazios :)\n",
    "\n",
    "acoes_one_hot.isna().sum()[acoes_one_hot.isna().sum() > 0]"
   ]
  },
  {
   "cell_type": "code",
   "execution_count": 32,
   "metadata": {},
   "outputs": [],
   "source": [
    "# desfazendo one hot encoding\n",
    "acoes_full = acoes_one_hot.copy()\n",
    "acoes_full['SETOR'] = acoes['SETOR'].astype('category')\n",
    "acoes_full['SUBSETOR'] = acoes['SUBSETOR'].astype('category')\n",
    "\n",
    "acoes_full = acoes_full.drop(columns=[col for col in acoes_full if col.startswith('SETOR_') or col.startswith('SUBSETOR_')])"
   ]
  },
  {
   "cell_type": "code",
   "execution_count": 33,
   "metadata": {},
   "outputs": [
    {
     "data": {
      "text/html": [
       "<div>\n",
       "<style scoped>\n",
       "    .dataframe tbody tr th:only-of-type {\n",
       "        vertical-align: middle;\n",
       "    }\n",
       "\n",
       "    .dataframe tbody tr th {\n",
       "        vertical-align: top;\n",
       "    }\n",
       "\n",
       "    .dataframe thead th {\n",
       "        text-align: right;\n",
       "    }\n",
       "</style>\n",
       "<table border=\"1\" class=\"dataframe\">\n",
       "  <thead>\n",
       "    <tr style=\"text-align: right;\">\n",
       "      <th></th>\n",
       "      <th>ATIVO</th>\n",
       "      <th>DIV_BRUTA</th>\n",
       "      <th>DISPONIBILIDADES</th>\n",
       "      <th>DIV_LIQUIDA</th>\n",
       "      <th>ATIVO_CIRCULANTE</th>\n",
       "      <th>PATRIM_LIQ</th>\n",
       "      <th>RECEITA_LIQUIDA</th>\n",
       "      <th>EBIT</th>\n",
       "      <th>LUCRO_LIQUIDO</th>\n",
       "      <th>NRO_ACOES</th>\n",
       "      <th>...</th>\n",
       "      <th>P/EBIT</th>\n",
       "      <th>MARKET_CAP</th>\n",
       "      <th>EV</th>\n",
       "      <th>EV/EBIT</th>\n",
       "      <th>MARGEM_EBIT</th>\n",
       "      <th>MARGEM_LIQUIDA</th>\n",
       "      <th>ROE</th>\n",
       "      <th>DIV_LIQ/PATR_LIQ</th>\n",
       "      <th>SETOR</th>\n",
       "      <th>SUBSETOR</th>\n",
       "    </tr>\n",
       "    <tr>\n",
       "      <th>ticker</th>\n",
       "      <th></th>\n",
       "      <th></th>\n",
       "      <th></th>\n",
       "      <th></th>\n",
       "      <th></th>\n",
       "      <th></th>\n",
       "      <th></th>\n",
       "      <th></th>\n",
       "      <th></th>\n",
       "      <th></th>\n",
       "      <th></th>\n",
       "      <th></th>\n",
       "      <th></th>\n",
       "      <th></th>\n",
       "      <th></th>\n",
       "      <th></th>\n",
       "      <th></th>\n",
       "      <th></th>\n",
       "      <th></th>\n",
       "      <th></th>\n",
       "      <th></th>\n",
       "    </tr>\n",
       "  </thead>\n",
       "  <tbody>\n",
       "    <tr>\n",
       "      <th>ABCB4</th>\n",
       "      <td>4.989580e+10</td>\n",
       "      <td>0.0</td>\n",
       "      <td>0.0</td>\n",
       "      <td>0.0</td>\n",
       "      <td>0.0</td>\n",
       "      <td>4.093300e+09</td>\n",
       "      <td>0.0</td>\n",
       "      <td>0.0</td>\n",
       "      <td>4.187330e+08</td>\n",
       "      <td>2.183590e+08</td>\n",
       "      <td>...</td>\n",
       "      <td>0.0</td>\n",
       "      <td>3.072311e+09</td>\n",
       "      <td>0.0</td>\n",
       "      <td>0.0</td>\n",
       "      <td>0.0</td>\n",
       "      <td>-5.684342e-14</td>\n",
       "      <td>0.102297</td>\n",
       "      <td>3.552714e-15</td>\n",
       "      <td>FINANCEIROS</td>\n",
       "      <td>BANCOS</td>\n",
       "    </tr>\n",
       "    <tr>\n",
       "      <th>BAZA3</th>\n",
       "      <td>2.051230e+10</td>\n",
       "      <td>0.0</td>\n",
       "      <td>0.0</td>\n",
       "      <td>0.0</td>\n",
       "      <td>0.0</td>\n",
       "      <td>2.316530e+09</td>\n",
       "      <td>0.0</td>\n",
       "      <td>0.0</td>\n",
       "      <td>3.250920e+08</td>\n",
       "      <td>2.964600e+07</td>\n",
       "      <td>...</td>\n",
       "      <td>0.0</td>\n",
       "      <td>8.893800e+08</td>\n",
       "      <td>0.0</td>\n",
       "      <td>0.0</td>\n",
       "      <td>0.0</td>\n",
       "      <td>-5.684342e-14</td>\n",
       "      <td>0.140336</td>\n",
       "      <td>3.552714e-15</td>\n",
       "      <td>FINANCEIROS</td>\n",
       "      <td>BANCOS</td>\n",
       "    </tr>\n",
       "    <tr>\n",
       "      <th>BBAS3</th>\n",
       "      <td>1.780470e+12</td>\n",
       "      <td>0.0</td>\n",
       "      <td>0.0</td>\n",
       "      <td>0.0</td>\n",
       "      <td>0.0</td>\n",
       "      <td>1.050070e+11</td>\n",
       "      <td>0.0</td>\n",
       "      <td>0.0</td>\n",
       "      <td>1.612730e+10</td>\n",
       "      <td>2.865420e+09</td>\n",
       "      <td>...</td>\n",
       "      <td>0.0</td>\n",
       "      <td>8.495970e+10</td>\n",
       "      <td>0.0</td>\n",
       "      <td>0.0</td>\n",
       "      <td>0.0</td>\n",
       "      <td>-5.684342e-14</td>\n",
       "      <td>0.153583</td>\n",
       "      <td>3.552714e-15</td>\n",
       "      <td>FINANCEIROS</td>\n",
       "      <td>BANCOS</td>\n",
       "    </tr>\n",
       "    <tr>\n",
       "      <th>BBDC3</th>\n",
       "      <td>1.329520e+12</td>\n",
       "      <td>0.0</td>\n",
       "      <td>0.0</td>\n",
       "      <td>0.0</td>\n",
       "      <td>0.0</td>\n",
       "      <td>1.351340e+11</td>\n",
       "      <td>0.0</td>\n",
       "      <td>0.0</td>\n",
       "      <td>1.760820e+10</td>\n",
       "      <td>8.870210e+09</td>\n",
       "      <td>...</td>\n",
       "      <td>0.0</td>\n",
       "      <td>1.685340e+11</td>\n",
       "      <td>0.0</td>\n",
       "      <td>0.0</td>\n",
       "      <td>0.0</td>\n",
       "      <td>-5.684342e-14</td>\n",
       "      <td>0.130302</td>\n",
       "      <td>3.552714e-15</td>\n",
       "      <td>FINANCEIROS</td>\n",
       "      <td>BANCOS</td>\n",
       "    </tr>\n",
       "    <tr>\n",
       "      <th>BBDC4</th>\n",
       "      <td>1.329520e+12</td>\n",
       "      <td>0.0</td>\n",
       "      <td>0.0</td>\n",
       "      <td>0.0</td>\n",
       "      <td>0.0</td>\n",
       "      <td>1.351340e+11</td>\n",
       "      <td>0.0</td>\n",
       "      <td>0.0</td>\n",
       "      <td>1.760820e+10</td>\n",
       "      <td>8.870210e+09</td>\n",
       "      <td>...</td>\n",
       "      <td>0.0</td>\n",
       "      <td>1.818393e+11</td>\n",
       "      <td>0.0</td>\n",
       "      <td>0.0</td>\n",
       "      <td>0.0</td>\n",
       "      <td>-5.684342e-14</td>\n",
       "      <td>0.130302</td>\n",
       "      <td>3.552714e-15</td>\n",
       "      <td>FINANCEIROS</td>\n",
       "      <td>BANCOS</td>\n",
       "    </tr>\n",
       "  </tbody>\n",
       "</table>\n",
       "<p>5 rows × 32 columns</p>\n",
       "</div>"
      ],
      "text/plain": [
       "               ATIVO  DIV_BRUTA  DISPONIBILIDADES  DIV_LIQUIDA  \\\n",
       "ticker                                                           \n",
       "ABCB4   4.989580e+10        0.0               0.0          0.0   \n",
       "BAZA3   2.051230e+10        0.0               0.0          0.0   \n",
       "BBAS3   1.780470e+12        0.0               0.0          0.0   \n",
       "BBDC3   1.329520e+12        0.0               0.0          0.0   \n",
       "BBDC4   1.329520e+12        0.0               0.0          0.0   \n",
       "\n",
       "        ATIVO_CIRCULANTE    PATRIM_LIQ  RECEITA_LIQUIDA  EBIT  LUCRO_LIQUIDO  \\\n",
       "ticker                                                                         \n",
       "ABCB4                0.0  4.093300e+09              0.0   0.0   4.187330e+08   \n",
       "BAZA3                0.0  2.316530e+09              0.0   0.0   3.250920e+08   \n",
       "BBAS3                0.0  1.050070e+11              0.0   0.0   1.612730e+10   \n",
       "BBDC3                0.0  1.351340e+11              0.0   0.0   1.760820e+10   \n",
       "BBDC4                0.0  1.351340e+11              0.0   0.0   1.760820e+10   \n",
       "\n",
       "           NRO_ACOES  ...  P/EBIT    MARKET_CAP   EV  EV/EBIT  MARGEM_EBIT  \\\n",
       "ticker                ...                                                    \n",
       "ABCB4   2.183590e+08  ...     0.0  3.072311e+09  0.0      0.0          0.0   \n",
       "BAZA3   2.964600e+07  ...     0.0  8.893800e+08  0.0      0.0          0.0   \n",
       "BBAS3   2.865420e+09  ...     0.0  8.495970e+10  0.0      0.0          0.0   \n",
       "BBDC3   8.870210e+09  ...     0.0  1.685340e+11  0.0      0.0          0.0   \n",
       "BBDC4   8.870210e+09  ...     0.0  1.818393e+11  0.0      0.0          0.0   \n",
       "\n",
       "        MARGEM_LIQUIDA       ROE  DIV_LIQ/PATR_LIQ        SETOR  SUBSETOR  \n",
       "ticker                                                                     \n",
       "ABCB4    -5.684342e-14  0.102297      3.552714e-15  FINANCEIROS    BANCOS  \n",
       "BAZA3    -5.684342e-14  0.140336      3.552714e-15  FINANCEIROS    BANCOS  \n",
       "BBAS3    -5.684342e-14  0.153583      3.552714e-15  FINANCEIROS    BANCOS  \n",
       "BBDC3    -5.684342e-14  0.130302      3.552714e-15  FINANCEIROS    BANCOS  \n",
       "BBDC4    -5.684342e-14  0.130302      3.552714e-15  FINANCEIROS    BANCOS  \n",
       "\n",
       "[5 rows x 32 columns]"
      ]
     },
     "execution_count": 33,
     "metadata": {},
     "output_type": "execute_result"
    }
   ],
   "source": [
    "acoes_full.head()"
   ]
  },
  {
   "cell_type": "markdown",
   "metadata": {},
   "source": [
    "# Limpeza dos dados\n"
   ]
  },
  {
   "cell_type": "markdown",
   "metadata": {},
   "source": [
    "### Univariados\n",
    "\n",
    "Analisando atributo comum aos dois tipos de ações citados anteriormente"
   ]
  },
  {
   "cell_type": "code",
   "execution_count": 34,
   "metadata": {},
   "outputs": [
    {
     "data": {
      "text/plain": [
       "ShapiroResult(statistic=nan, pvalue=1.0)"
      ]
     },
     "execution_count": 34,
     "metadata": {},
     "output_type": "execute_result"
    },
    {
     "data": {
      "image/png": "[encoded data removed]",
      "text/plain": [
       "<Figure size 432x288 with 1 Axes>"
      ]
     },
     "metadata": {
      "needs_background": "light"
     },
     "output_type": "display_data"
    }
   ],
   "source": [
    "acoes_full['LUCRO_LIQUIDO'].apply(np.log10).plot.hist()\n",
    "stats.shapiro(acoes_full['LUCRO_LIQUIDO'].apply(np.log10))"
   ]
  },
  {
   "cell_type": "code",
   "execution_count": 35,
   "metadata": {},
   "outputs": [
    {
     "data": {
      "text/html": [
       "<div>\n",
       "<style scoped>\n",
       "    .dataframe tbody tr th:only-of-type {\n",
       "        vertical-align: middle;\n",
       "    }\n",
       "\n",
       "    .dataframe tbody tr th {\n",
       "        vertical-align: top;\n",
       "    }\n",
       "\n",
       "    .dataframe thead th {\n",
       "        text-align: right;\n",
       "    }\n",
       "</style>\n",
       "<table border=\"1\" class=\"dataframe\">\n",
       "  <thead>\n",
       "    <tr style=\"text-align: right;\">\n",
       "      <th></th>\n",
       "      <th>ATIVO</th>\n",
       "      <th>DIV_BRUTA</th>\n",
       "      <th>DISPONIBILIDADES</th>\n",
       "      <th>DIV_LIQUIDA</th>\n",
       "      <th>ATIVO_CIRCULANTE</th>\n",
       "      <th>PATRIM_LIQ</th>\n",
       "      <th>RECEITA_LIQUIDA</th>\n",
       "      <th>EBIT</th>\n",
       "      <th>LUCRO_LIQUIDO</th>\n",
       "      <th>NRO_ACOES</th>\n",
       "      <th>...</th>\n",
       "      <th>P/EBIT</th>\n",
       "      <th>MARKET_CAP</th>\n",
       "      <th>EV</th>\n",
       "      <th>EV/EBIT</th>\n",
       "      <th>MARGEM_EBIT</th>\n",
       "      <th>MARGEM_LIQUIDA</th>\n",
       "      <th>ROE</th>\n",
       "      <th>DIV_LIQ/PATR_LIQ</th>\n",
       "      <th>SETOR</th>\n",
       "      <th>SUBSETOR</th>\n",
       "    </tr>\n",
       "    <tr>\n",
       "      <th>ticker</th>\n",
       "      <th></th>\n",
       "      <th></th>\n",
       "      <th></th>\n",
       "      <th></th>\n",
       "      <th></th>\n",
       "      <th></th>\n",
       "      <th></th>\n",
       "      <th></th>\n",
       "      <th></th>\n",
       "      <th></th>\n",
       "      <th></th>\n",
       "      <th></th>\n",
       "      <th></th>\n",
       "      <th></th>\n",
       "      <th></th>\n",
       "      <th></th>\n",
       "      <th></th>\n",
       "      <th></th>\n",
       "      <th></th>\n",
       "      <th></th>\n",
       "      <th></th>\n",
       "    </tr>\n",
       "  </thead>\n",
       "  <tbody>\n",
       "  </tbody>\n",
       "</table>\n",
       "<p>0 rows × 32 columns</p>\n",
       "</div>"
      ],
      "text/plain": [
       "Empty DataFrame\n",
       "Columns: [ATIVO, DIV_BRUTA, DISPONIBILIDADES, DIV_LIQUIDA, ATIVO_CIRCULANTE, PATRIM_LIQ, RECEITA_LIQUIDA, EBIT, LUCRO_LIQUIDO, NRO_ACOES, CRES_REC_(5A), ROIC, LIQUIDEZ_CORR, DEPOSITOS, CART_DE_CREDITO, RESULT_INT_FINANC, REC_SERVICOS, PRECO_2020_04_15, LPA, VPA, P/L, P/VP, P/EBIT, MARKET_CAP, EV, EV/EBIT, MARGEM_EBIT, MARGEM_LIQUIDA, ROE, DIV_LIQ/PATR_LIQ, SETOR, SUBSETOR]\n",
       "Index: []\n",
       "\n",
       "[0 rows x 32 columns]"
      ]
     },
     "execution_count": 35,
     "metadata": {},
     "output_type": "execute_result"
    }
   ],
   "source": [
    "LL_log = acoes_full['LUCRO_LIQUIDO'].apply(np.log10)\n",
    "mad = abs(LL_log - LL_log.median()).median() / .6745\n",
    "acoes_full[abs(LL_log - LL_log.median()) / mad > 3.5]"
   ]
  },
  {
   "cell_type": "code",
   "execution_count": 36,
   "metadata": {},
   "outputs": [
    {
     "data": {
      "text/plain": [
       "<AxesSubplot:ylabel='Frequency'>"
      ]
     },
     "execution_count": 36,
     "metadata": {},
     "output_type": "execute_result"
    },
    {
     "data": {
      "image/png": "[encoded data removed]",
      "text/plain": [
       "<Figure size 432x288 with 1 Axes>"
      ]
     },
     "metadata": {
      "needs_background": "light"
     },
     "output_type": "display_data"
    }
   ],
   "source": [
    "(abs(LL_log - LL_log.median()) / mad).plot.hist()"
   ]
  },
  {
   "cell_type": "markdown",
   "metadata": {},
   "source": [
    "### Bivariados\n",
    "\n",
    "Analisando a relação Margem Líquida - Dívida Líquida/Patrimônio Líquido. Idealmente, quando maior a Margem Líquida e menor a Dívida Líquida/Patrimônio Líquido, melhor."
   ]
  },
  {
   "cell_type": "code",
   "execution_count": 37,
   "metadata": {},
   "outputs": [
    {
     "data": {
      "text/plain": [
       "ShapiroResult(statistic=nan, pvalue=1.0)"
      ]
     },
     "execution_count": 37,
     "metadata": {},
     "output_type": "execute_result"
    }
   ],
   "source": [
    "stats.shapiro(acoes_full['DIV_LIQ/PATR_LIQ'].apply(np.log10))"
   ]
  },
  {
   "cell_type": "code",
   "execution_count": 38,
   "metadata": {},
   "outputs": [
    {
     "data": {
      "text/plain": [
       "ShapiroResult(statistic=nan, pvalue=1.0)"
      ]
     },
     "execution_count": 38,
     "metadata": {},
     "output_type": "execute_result"
    }
   ],
   "source": [
    "stats.shapiro(acoes_full['MARGEM_LIQUIDA'].apply(np.log10))"
   ]
  },
  {
   "cell_type": "code",
   "execution_count": 39,
   "metadata": {},
   "outputs": [
    {
     "data": {
      "text/plain": [
       "<AxesSubplot:xlabel='MARGEM_LIQUIDA', ylabel='DIV_LIQ/PATR_LIQ'>"
      ]
     },
     "execution_count": 39,
     "metadata": {},
     "output_type": "execute_result"
    },
    {
     "data": {
      "image/png": "[encoded data removed]",
      "text/plain": [
       "<Figure size 432x288 with 1 Axes>"
      ]
     },
     "metadata": {
      "needs_background": "light"
     },
     "output_type": "display_data"
    }
   ],
   "source": [
    "sns.scatterplot(x=acoes_full['MARGEM_LIQUIDA'].apply(np.log10), y=acoes_full['DIV_LIQ/PATR_LIQ'].apply(np.log10))"
   ]
  },
  {
   "cell_type": "markdown",
   "metadata": {},
   "source": [
    "Nesse caso os outliers seriam de interesse, como é o caso de Itaúsa abaixo"
   ]
  },
  {
   "cell_type": "code",
   "execution_count": 40,
   "metadata": {},
   "outputs": [
    {
     "data": {
      "text/html": [
       "<div>\n",
       "<style scoped>\n",
       "    .dataframe tbody tr th:only-of-type {\n",
       "        vertical-align: middle;\n",
       "    }\n",
       "\n",
       "    .dataframe tbody tr th {\n",
       "        vertical-align: top;\n",
       "    }\n",
       "\n",
       "    .dataframe thead th {\n",
       "        text-align: right;\n",
       "    }\n",
       "</style>\n",
       "<table border=\"1\" class=\"dataframe\">\n",
       "  <thead>\n",
       "    <tr style=\"text-align: right;\">\n",
       "      <th></th>\n",
       "      <th>ATIVO</th>\n",
       "      <th>DIV_BRUTA</th>\n",
       "      <th>DISPONIBILIDADES</th>\n",
       "      <th>DIV_LIQUIDA</th>\n",
       "      <th>ATIVO_CIRCULANTE</th>\n",
       "      <th>PATRIM_LIQ</th>\n",
       "      <th>RECEITA_LIQUIDA</th>\n",
       "      <th>EBIT</th>\n",
       "      <th>LUCRO_LIQUIDO</th>\n",
       "      <th>NRO_ACOES</th>\n",
       "      <th>...</th>\n",
       "      <th>P/EBIT</th>\n",
       "      <th>MARKET_CAP</th>\n",
       "      <th>EV</th>\n",
       "      <th>EV/EBIT</th>\n",
       "      <th>MARGEM_EBIT</th>\n",
       "      <th>MARGEM_LIQUIDA</th>\n",
       "      <th>ROE</th>\n",
       "      <th>DIV_LIQ/PATR_LIQ</th>\n",
       "      <th>SETOR</th>\n",
       "      <th>SUBSETOR</th>\n",
       "    </tr>\n",
       "    <tr>\n",
       "      <th>ticker</th>\n",
       "      <th></th>\n",
       "      <th></th>\n",
       "      <th></th>\n",
       "      <th></th>\n",
       "      <th></th>\n",
       "      <th></th>\n",
       "      <th></th>\n",
       "      <th></th>\n",
       "      <th></th>\n",
       "      <th></th>\n",
       "      <th></th>\n",
       "      <th></th>\n",
       "      <th></th>\n",
       "      <th></th>\n",
       "      <th></th>\n",
       "      <th></th>\n",
       "      <th></th>\n",
       "      <th></th>\n",
       "      <th></th>\n",
       "      <th></th>\n",
       "      <th></th>\n",
       "    </tr>\n",
       "  </thead>\n",
       "  <tbody>\n",
       "    <tr>\n",
       "      <th>ITSA3</th>\n",
       "      <td>6.581400e+10</td>\n",
       "      <td>4.981000e+09</td>\n",
       "      <td>3.821000e+09</td>\n",
       "      <td>1.160000e+09</td>\n",
       "      <td>6.799000e+09</td>\n",
       "      <td>5.289600e+10</td>\n",
       "      <td>5.002000e+09</td>\n",
       "      <td>177000000.0</td>\n",
       "      <td>7.001000e+09</td>\n",
       "      <td>8.410810e+09</td>\n",
       "      <td>...</td>\n",
       "      <td>514.152326</td>\n",
       "      <td>9.100496e+10</td>\n",
       "      <td>9.216496e+10</td>\n",
       "      <td>520.705998</td>\n",
       "      <td>0.035386</td>\n",
       "      <td>1.399640</td>\n",
       "      <td>0.132354</td>\n",
       "      <td>0.021930</td>\n",
       "      <td>FINANCEIROS</td>\n",
       "      <td>BANCOS</td>\n",
       "    </tr>\n",
       "    <tr>\n",
       "      <th>ITSA4</th>\n",
       "      <td>6.581400e+10</td>\n",
       "      <td>4.981000e+09</td>\n",
       "      <td>3.821000e+09</td>\n",
       "      <td>1.160000e+09</td>\n",
       "      <td>6.799000e+09</td>\n",
       "      <td>5.289600e+10</td>\n",
       "      <td>5.002000e+09</td>\n",
       "      <td>177000000.0</td>\n",
       "      <td>7.001000e+09</td>\n",
       "      <td>8.410810e+09</td>\n",
       "      <td>...</td>\n",
       "      <td>441.923924</td>\n",
       "      <td>7.822053e+10</td>\n",
       "      <td>7.938053e+10</td>\n",
       "      <td>448.477597</td>\n",
       "      <td>0.035386</td>\n",
       "      <td>1.399640</td>\n",
       "      <td>0.132354</td>\n",
       "      <td>0.021930</td>\n",
       "      <td>FINANCEIROS</td>\n",
       "      <td>BANCOS</td>\n",
       "    </tr>\n",
       "    <tr>\n",
       "      <th>BRPR3</th>\n",
       "      <td>9.916320e+09</td>\n",
       "      <td>1.759630e+09</td>\n",
       "      <td>1.255720e+09</td>\n",
       "      <td>5.039120e+08</td>\n",
       "      <td>1.517320e+09</td>\n",
       "      <td>7.166500e+09</td>\n",
       "      <td>3.342860e+08</td>\n",
       "      <td>217616000.0</td>\n",
       "      <td>4.564880e+08</td>\n",
       "      <td>4.915100e+08</td>\n",
       "      <td>...</td>\n",
       "      <td>20.282330</td>\n",
       "      <td>4.413760e+09</td>\n",
       "      <td>4.917672e+09</td>\n",
       "      <td>22.597932</td>\n",
       "      <td>0.650987</td>\n",
       "      <td>1.365561</td>\n",
       "      <td>0.063697</td>\n",
       "      <td>0.070315</td>\n",
       "      <td>EXPLORACAO_DE_IMOVEIS</td>\n",
       "      <td>EXPLORACAO_DE_IMOVEIS</td>\n",
       "    </tr>\n",
       "  </tbody>\n",
       "</table>\n",
       "<p>3 rows × 32 columns</p>\n",
       "</div>"
      ],
      "text/plain": [
       "               ATIVO     DIV_BRUTA  DISPONIBILIDADES   DIV_LIQUIDA  \\\n",
       "ticker                                                               \n",
       "ITSA3   6.581400e+10  4.981000e+09      3.821000e+09  1.160000e+09   \n",
       "ITSA4   6.581400e+10  4.981000e+09      3.821000e+09  1.160000e+09   \n",
       "BRPR3   9.916320e+09  1.759630e+09      1.255720e+09  5.039120e+08   \n",
       "\n",
       "        ATIVO_CIRCULANTE    PATRIM_LIQ  RECEITA_LIQUIDA         EBIT  \\\n",
       "ticker                                                                 \n",
       "ITSA3       6.799000e+09  5.289600e+10     5.002000e+09  177000000.0   \n",
       "ITSA4       6.799000e+09  5.289600e+10     5.002000e+09  177000000.0   \n",
       "BRPR3       1.517320e+09  7.166500e+09     3.342860e+08  217616000.0   \n",
       "\n",
       "        LUCRO_LIQUIDO     NRO_ACOES  ...      P/EBIT    MARKET_CAP  \\\n",
       "ticker                               ...                             \n",
       "ITSA3    7.001000e+09  8.410810e+09  ...  514.152326  9.100496e+10   \n",
       "ITSA4    7.001000e+09  8.410810e+09  ...  441.923924  7.822053e+10   \n",
       "BRPR3    4.564880e+08  4.915100e+08  ...   20.282330  4.413760e+09   \n",
       "\n",
       "                  EV     EV/EBIT  MARGEM_EBIT  MARGEM_LIQUIDA       ROE  \\\n",
       "ticker                                                                    \n",
       "ITSA3   9.216496e+10  520.705998     0.035386        1.399640  0.132354   \n",
       "ITSA4   7.938053e+10  448.477597     0.035386        1.399640  0.132354   \n",
       "BRPR3   4.917672e+09   22.597932     0.650987        1.365561  0.063697   \n",
       "\n",
       "        DIV_LIQ/PATR_LIQ                  SETOR               SUBSETOR  \n",
       "ticker                                                                  \n",
       "ITSA3           0.021930            FINANCEIROS                 BANCOS  \n",
       "ITSA4           0.021930            FINANCEIROS                 BANCOS  \n",
       "BRPR3           0.070315  EXPLORACAO_DE_IMOVEIS  EXPLORACAO_DE_IMOVEIS  \n",
       "\n",
       "[3 rows x 32 columns]"
      ]
     },
     "execution_count": 40,
     "metadata": {},
     "output_type": "execute_result"
    }
   ],
   "source": [
    "acoes_full[(acoes_full['MARGEM_LIQUIDA'].apply(np.log10) > .1) & (acoes_full['DIV_LIQ/PATR_LIQ'].apply(np.log10) < 0)]"
   ]
  },
  {
   "cell_type": "markdown",
   "metadata": {},
   "source": [
    "\n",
    "### Multivariados\n",
    "Ainda temos 147 atributos depois do *one hot encoding*\n",
    "\n",
    "Para detectar outliers com esse número de features será utilizado o Isolation Forest e o Local Outlier Factor, já que eles não são paramétricos"
   ]
  },
  {
   "cell_type": "code",
   "execution_count": 41,
   "metadata": {},
   "outputs": [],
   "source": [
    "from sklearn.ensemble import IsolationForest"
   ]
  },
  {
   "cell_type": "code",
   "execution_count": 42,
   "metadata": {},
   "outputs": [
    {
     "data": {
      "text/html": [
       "<div>\n",
       "<style scoped>\n",
       "    .dataframe tbody tr th:only-of-type {\n",
       "        vertical-align: middle;\n",
       "    }\n",
       "\n",
       "    .dataframe tbody tr th {\n",
       "        vertical-align: top;\n",
       "    }\n",
       "\n",
       "    .dataframe thead th {\n",
       "        text-align: right;\n",
       "    }\n",
       "</style>\n",
       "<table border=\"1\" class=\"dataframe\">\n",
       "  <thead>\n",
       "    <tr style=\"text-align: right;\">\n",
       "      <th></th>\n",
       "      <th>ATIVO</th>\n",
       "      <th>DIV_BRUTA</th>\n",
       "      <th>DISPONIBILIDADES</th>\n",
       "      <th>DIV_LIQUIDA</th>\n",
       "      <th>ATIVO_CIRCULANTE</th>\n",
       "      <th>PATRIM_LIQ</th>\n",
       "      <th>RECEITA_LIQUIDA</th>\n",
       "      <th>EBIT</th>\n",
       "      <th>LUCRO_LIQUIDO</th>\n",
       "      <th>NRO_ACOES</th>\n",
       "      <th>...</th>\n",
       "      <th>SUBSETOR_TECIDOS_VESTUARIO_E_CALCADOS</th>\n",
       "      <th>SUBSETOR_TELEFONIA_FIXA</th>\n",
       "      <th>SUBSETOR_TELEFONIA_MOVEL</th>\n",
       "      <th>SUBSETOR_TRANSPORTE_AEREO</th>\n",
       "      <th>SUBSETOR_TRANSPORTE_FERROVIARIO</th>\n",
       "      <th>SUBSETOR_TRANSPORTE_HIDROVIARIO</th>\n",
       "      <th>SUBSETOR_TRANSPORTE_RODOVIARIO</th>\n",
       "      <th>SUBSETOR_UTENSILIOS_DOMESTICOS</th>\n",
       "      <th>SUBSETOR_VESTUARIO</th>\n",
       "      <th>SUBSETOR_VIAGENS_E_TURISMO</th>\n",
       "    </tr>\n",
       "    <tr>\n",
       "      <th>ticker</th>\n",
       "      <th></th>\n",
       "      <th></th>\n",
       "      <th></th>\n",
       "      <th></th>\n",
       "      <th></th>\n",
       "      <th></th>\n",
       "      <th></th>\n",
       "      <th></th>\n",
       "      <th></th>\n",
       "      <th></th>\n",
       "      <th></th>\n",
       "      <th></th>\n",
       "      <th></th>\n",
       "      <th></th>\n",
       "      <th></th>\n",
       "      <th></th>\n",
       "      <th></th>\n",
       "      <th></th>\n",
       "      <th></th>\n",
       "      <th></th>\n",
       "      <th></th>\n",
       "    </tr>\n",
       "  </thead>\n",
       "  <tbody>\n",
       "    <tr>\n",
       "      <th>BBDC3</th>\n",
       "      <td>1.329520e+12</td>\n",
       "      <td>0.000000e+00</td>\n",
       "      <td>0.000000e+00</td>\n",
       "      <td>0.000000e+00</td>\n",
       "      <td>0.000000e+00</td>\n",
       "      <td>1.351340e+11</td>\n",
       "      <td>0.000000e+00</td>\n",
       "      <td>0.000000e+00</td>\n",
       "      <td>1.760820e+10</td>\n",
       "      <td>8.870210e+09</td>\n",
       "      <td>...</td>\n",
       "      <td>0.0</td>\n",
       "      <td>0.0</td>\n",
       "      <td>0.0</td>\n",
       "      <td>0.0</td>\n",
       "      <td>0.0</td>\n",
       "      <td>0.0</td>\n",
       "      <td>0.0</td>\n",
       "      <td>0.0</td>\n",
       "      <td>0.0</td>\n",
       "      <td>0.0</td>\n",
       "    </tr>\n",
       "    <tr>\n",
       "      <th>BBDC4</th>\n",
       "      <td>1.329520e+12</td>\n",
       "      <td>0.000000e+00</td>\n",
       "      <td>0.000000e+00</td>\n",
       "      <td>0.000000e+00</td>\n",
       "      <td>0.000000e+00</td>\n",
       "      <td>1.351340e+11</td>\n",
       "      <td>0.000000e+00</td>\n",
       "      <td>0.000000e+00</td>\n",
       "      <td>1.760820e+10</td>\n",
       "      <td>8.870210e+09</td>\n",
       "      <td>...</td>\n",
       "      <td>0.0</td>\n",
       "      <td>0.0</td>\n",
       "      <td>0.0</td>\n",
       "      <td>0.0</td>\n",
       "      <td>0.0</td>\n",
       "      <td>0.0</td>\n",
       "      <td>0.0</td>\n",
       "      <td>0.0</td>\n",
       "      <td>0.0</td>\n",
       "      <td>0.0</td>\n",
       "    </tr>\n",
       "    <tr>\n",
       "      <th>PETR3</th>\n",
       "      <td>1.015140e+12</td>\n",
       "      <td>4.995550e+11</td>\n",
       "      <td>1.095500e+11</td>\n",
       "      <td>3.900050e+11</td>\n",
       "      <td>2.019260e+11</td>\n",
       "      <td>2.427660e+11</td>\n",
       "      <td>2.760460e+11</td>\n",
       "      <td>8.545400e+10</td>\n",
       "      <td>-3.399600e+10</td>\n",
       "      <td>1.304450e+10</td>\n",
       "      <td>...</td>\n",
       "      <td>0.0</td>\n",
       "      <td>0.0</td>\n",
       "      <td>0.0</td>\n",
       "      <td>0.0</td>\n",
       "      <td>0.0</td>\n",
       "      <td>0.0</td>\n",
       "      <td>0.0</td>\n",
       "      <td>0.0</td>\n",
       "      <td>0.0</td>\n",
       "      <td>0.0</td>\n",
       "    </tr>\n",
       "    <tr>\n",
       "      <th>PETR4</th>\n",
       "      <td>1.015140e+12</td>\n",
       "      <td>4.995550e+11</td>\n",
       "      <td>1.095500e+11</td>\n",
       "      <td>3.900050e+11</td>\n",
       "      <td>2.019260e+11</td>\n",
       "      <td>2.427660e+11</td>\n",
       "      <td>2.760460e+11</td>\n",
       "      <td>8.545400e+10</td>\n",
       "      <td>-3.399600e+10</td>\n",
       "      <td>1.304450e+10</td>\n",
       "      <td>...</td>\n",
       "      <td>0.0</td>\n",
       "      <td>0.0</td>\n",
       "      <td>0.0</td>\n",
       "      <td>0.0</td>\n",
       "      <td>0.0</td>\n",
       "      <td>0.0</td>\n",
       "      <td>0.0</td>\n",
       "      <td>0.0</td>\n",
       "      <td>0.0</td>\n",
       "      <td>0.0</td>\n",
       "    </tr>\n",
       "    <tr>\n",
       "      <th>VALE3</th>\n",
       "      <td>4.553030e+11</td>\n",
       "      <td>1.016080e+11</td>\n",
       "      <td>6.633310e+10</td>\n",
       "      <td>3.527500e+10</td>\n",
       "      <td>1.111950e+11</td>\n",
       "      <td>1.869590e+11</td>\n",
       "      <td>1.533680e+11</td>\n",
       "      <td>6.342340e+10</td>\n",
       "      <td>6.407460e+09</td>\n",
       "      <td>5.284470e+09</td>\n",
       "      <td>...</td>\n",
       "      <td>0.0</td>\n",
       "      <td>0.0</td>\n",
       "      <td>0.0</td>\n",
       "      <td>0.0</td>\n",
       "      <td>0.0</td>\n",
       "      <td>0.0</td>\n",
       "      <td>0.0</td>\n",
       "      <td>0.0</td>\n",
       "      <td>0.0</td>\n",
       "      <td>0.0</td>\n",
       "    </tr>\n",
       "  </tbody>\n",
       "</table>\n",
       "<p>5 rows × 146 columns</p>\n",
       "</div>"
      ],
      "text/plain": [
       "               ATIVO     DIV_BRUTA  DISPONIBILIDADES   DIV_LIQUIDA  \\\n",
       "ticker                                                               \n",
       "BBDC3   1.329520e+12  0.000000e+00      0.000000e+00  0.000000e+00   \n",
       "BBDC4   1.329520e+12  0.000000e+00      0.000000e+00  0.000000e+00   \n",
       "PETR3   1.015140e+12  4.995550e+11      1.095500e+11  3.900050e+11   \n",
       "PETR4   1.015140e+12  4.995550e+11      1.095500e+11  3.900050e+11   \n",
       "VALE3   4.553030e+11  1.016080e+11      6.633310e+10  3.527500e+10   \n",
       "\n",
       "        ATIVO_CIRCULANTE    PATRIM_LIQ  RECEITA_LIQUIDA          EBIT  \\\n",
       "ticker                                                                  \n",
       "BBDC3       0.000000e+00  1.351340e+11     0.000000e+00  0.000000e+00   \n",
       "BBDC4       0.000000e+00  1.351340e+11     0.000000e+00  0.000000e+00   \n",
       "PETR3       2.019260e+11  2.427660e+11     2.760460e+11  8.545400e+10   \n",
       "PETR4       2.019260e+11  2.427660e+11     2.760460e+11  8.545400e+10   \n",
       "VALE3       1.111950e+11  1.869590e+11     1.533680e+11  6.342340e+10   \n",
       "\n",
       "        LUCRO_LIQUIDO     NRO_ACOES  ...  \\\n",
       "ticker                               ...   \n",
       "BBDC3    1.760820e+10  8.870210e+09  ...   \n",
       "BBDC4    1.760820e+10  8.870210e+09  ...   \n",
       "PETR3   -3.399600e+10  1.304450e+10  ...   \n",
       "PETR4   -3.399600e+10  1.304450e+10  ...   \n",
       "VALE3    6.407460e+09  5.284470e+09  ...   \n",
       "\n",
       "        SUBSETOR_TECIDOS_VESTUARIO_E_CALCADOS  SUBSETOR_TELEFONIA_FIXA  \\\n",
       "ticker                                                                   \n",
       "BBDC3                                     0.0                      0.0   \n",
       "BBDC4                                     0.0                      0.0   \n",
       "PETR3                                     0.0                      0.0   \n",
       "PETR4                                     0.0                      0.0   \n",
       "VALE3                                     0.0                      0.0   \n",
       "\n",
       "        SUBSETOR_TELEFONIA_MOVEL  SUBSETOR_TRANSPORTE_AEREO  \\\n",
       "ticker                                                        \n",
       "BBDC3                        0.0                        0.0   \n",
       "BBDC4                        0.0                        0.0   \n",
       "PETR3                        0.0                        0.0   \n",
       "PETR4                        0.0                        0.0   \n",
       "VALE3                        0.0                        0.0   \n",
       "\n",
       "        SUBSETOR_TRANSPORTE_FERROVIARIO  SUBSETOR_TRANSPORTE_HIDROVIARIO  \\\n",
       "ticker                                                                     \n",
       "BBDC3                               0.0                              0.0   \n",
       "BBDC4                               0.0                              0.0   \n",
       "PETR3                               0.0                              0.0   \n",
       "PETR4                               0.0                              0.0   \n",
       "VALE3                               0.0                              0.0   \n",
       "\n",
       "        SUBSETOR_TRANSPORTE_RODOVIARIO  SUBSETOR_UTENSILIOS_DOMESTICOS  \\\n",
       "ticker                                                                   \n",
       "BBDC3                              0.0                             0.0   \n",
       "BBDC4                              0.0                             0.0   \n",
       "PETR3                              0.0                             0.0   \n",
       "PETR4                              0.0                             0.0   \n",
       "VALE3                              0.0                             0.0   \n",
       "\n",
       "        SUBSETOR_VESTUARIO  SUBSETOR_VIAGENS_E_TURISMO  \n",
       "ticker                                                  \n",
       "BBDC3                  0.0                         0.0  \n",
       "BBDC4                  0.0                         0.0  \n",
       "PETR3                  0.0                         0.0  \n",
       "PETR4                  0.0                         0.0  \n",
       "VALE3                  0.0                         0.0  \n",
       "\n",
       "[5 rows x 146 columns]"
      ]
     },
     "execution_count": 42,
     "metadata": {},
     "output_type": "execute_result"
    }
   ],
   "source": [
    "iforest = IsolationForest(contamination=.01, random_state=0)\n",
    "acoes_one_hot[pd.Series(iforest.fit_predict(acoes_one_hot), index=acoes_one_hot.index) == -1]"
   ]
  },
  {
   "cell_type": "code",
   "execution_count": 43,
   "metadata": {},
   "outputs": [
    {
     "data": {
      "text/html": [
       "<div>\n",
       "<style scoped>\n",
       "    .dataframe tbody tr th:only-of-type {\n",
       "        vertical-align: middle;\n",
       "    }\n",
       "\n",
       "    .dataframe tbody tr th {\n",
       "        vertical-align: top;\n",
       "    }\n",
       "\n",
       "    .dataframe thead th {\n",
       "        text-align: right;\n",
       "    }\n",
       "</style>\n",
       "<table border=\"1\" class=\"dataframe\">\n",
       "  <thead>\n",
       "    <tr style=\"text-align: right;\">\n",
       "      <th></th>\n",
       "      <th>ATIVO</th>\n",
       "      <th>DIV_BRUTA</th>\n",
       "      <th>DISPONIBILIDADES</th>\n",
       "      <th>DIV_LIQUIDA</th>\n",
       "      <th>ATIVO_CIRCULANTE</th>\n",
       "      <th>PATRIM_LIQ</th>\n",
       "      <th>RECEITA_LIQUIDA</th>\n",
       "      <th>EBIT</th>\n",
       "      <th>LUCRO_LIQUIDO</th>\n",
       "      <th>NRO_ACOES</th>\n",
       "      <th>...</th>\n",
       "      <th>SUBSETOR_TECIDOS_VESTUARIO_E_CALCADOS</th>\n",
       "      <th>SUBSETOR_TELEFONIA_FIXA</th>\n",
       "      <th>SUBSETOR_TELEFONIA_MOVEL</th>\n",
       "      <th>SUBSETOR_TRANSPORTE_AEREO</th>\n",
       "      <th>SUBSETOR_TRANSPORTE_FERROVIARIO</th>\n",
       "      <th>SUBSETOR_TRANSPORTE_HIDROVIARIO</th>\n",
       "      <th>SUBSETOR_TRANSPORTE_RODOVIARIO</th>\n",
       "      <th>SUBSETOR_UTENSILIOS_DOMESTICOS</th>\n",
       "      <th>SUBSETOR_VESTUARIO</th>\n",
       "      <th>SUBSETOR_VIAGENS_E_TURISMO</th>\n",
       "    </tr>\n",
       "    <tr>\n",
       "      <th>ticker</th>\n",
       "      <th></th>\n",
       "      <th></th>\n",
       "      <th></th>\n",
       "      <th></th>\n",
       "      <th></th>\n",
       "      <th></th>\n",
       "      <th></th>\n",
       "      <th></th>\n",
       "      <th></th>\n",
       "      <th></th>\n",
       "      <th></th>\n",
       "      <th></th>\n",
       "      <th></th>\n",
       "      <th></th>\n",
       "      <th></th>\n",
       "      <th></th>\n",
       "      <th></th>\n",
       "      <th></th>\n",
       "      <th></th>\n",
       "      <th></th>\n",
       "      <th></th>\n",
       "    </tr>\n",
       "  </thead>\n",
       "  <tbody>\n",
       "    <tr>\n",
       "      <th>BBAS3</th>\n",
       "      <td>1.780470e+12</td>\n",
       "      <td>0.000000e+00</td>\n",
       "      <td>0.000000e+00</td>\n",
       "      <td>0.000000e+00</td>\n",
       "      <td>0.000000e+00</td>\n",
       "      <td>1.050070e+11</td>\n",
       "      <td>0.000000e+00</td>\n",
       "      <td>0.000000e+00</td>\n",
       "      <td>1.612730e+10</td>\n",
       "      <td>2.865420e+09</td>\n",
       "      <td>...</td>\n",
       "      <td>0.0</td>\n",
       "      <td>0.0</td>\n",
       "      <td>0.0</td>\n",
       "      <td>0.0</td>\n",
       "      <td>0.0</td>\n",
       "      <td>0.0</td>\n",
       "      <td>0.0</td>\n",
       "      <td>0.0</td>\n",
       "      <td>0.0</td>\n",
       "      <td>0.0</td>\n",
       "    </tr>\n",
       "    <tr>\n",
       "      <th>BBDC3</th>\n",
       "      <td>1.329520e+12</td>\n",
       "      <td>0.000000e+00</td>\n",
       "      <td>0.000000e+00</td>\n",
       "      <td>0.000000e+00</td>\n",
       "      <td>0.000000e+00</td>\n",
       "      <td>1.351340e+11</td>\n",
       "      <td>0.000000e+00</td>\n",
       "      <td>0.000000e+00</td>\n",
       "      <td>1.760820e+10</td>\n",
       "      <td>8.870210e+09</td>\n",
       "      <td>...</td>\n",
       "      <td>0.0</td>\n",
       "      <td>0.0</td>\n",
       "      <td>0.0</td>\n",
       "      <td>0.0</td>\n",
       "      <td>0.0</td>\n",
       "      <td>0.0</td>\n",
       "      <td>0.0</td>\n",
       "      <td>0.0</td>\n",
       "      <td>0.0</td>\n",
       "      <td>0.0</td>\n",
       "    </tr>\n",
       "    <tr>\n",
       "      <th>BBDC4</th>\n",
       "      <td>1.329520e+12</td>\n",
       "      <td>0.000000e+00</td>\n",
       "      <td>0.000000e+00</td>\n",
       "      <td>0.000000e+00</td>\n",
       "      <td>0.000000e+00</td>\n",
       "      <td>1.351340e+11</td>\n",
       "      <td>0.000000e+00</td>\n",
       "      <td>0.000000e+00</td>\n",
       "      <td>1.760820e+10</td>\n",
       "      <td>8.870210e+09</td>\n",
       "      <td>...</td>\n",
       "      <td>0.0</td>\n",
       "      <td>0.0</td>\n",
       "      <td>0.0</td>\n",
       "      <td>0.0</td>\n",
       "      <td>0.0</td>\n",
       "      <td>0.0</td>\n",
       "      <td>0.0</td>\n",
       "      <td>0.0</td>\n",
       "      <td>0.0</td>\n",
       "      <td>0.0</td>\n",
       "    </tr>\n",
       "    <tr>\n",
       "      <th>PETR3</th>\n",
       "      <td>1.015140e+12</td>\n",
       "      <td>4.995550e+11</td>\n",
       "      <td>1.095500e+11</td>\n",
       "      <td>3.900050e+11</td>\n",
       "      <td>2.019260e+11</td>\n",
       "      <td>2.427660e+11</td>\n",
       "      <td>2.760460e+11</td>\n",
       "      <td>8.545400e+10</td>\n",
       "      <td>-3.399600e+10</td>\n",
       "      <td>1.304450e+10</td>\n",
       "      <td>...</td>\n",
       "      <td>0.0</td>\n",
       "      <td>0.0</td>\n",
       "      <td>0.0</td>\n",
       "      <td>0.0</td>\n",
       "      <td>0.0</td>\n",
       "      <td>0.0</td>\n",
       "      <td>0.0</td>\n",
       "      <td>0.0</td>\n",
       "      <td>0.0</td>\n",
       "      <td>0.0</td>\n",
       "    </tr>\n",
       "    <tr>\n",
       "      <th>PETR4</th>\n",
       "      <td>1.015140e+12</td>\n",
       "      <td>4.995550e+11</td>\n",
       "      <td>1.095500e+11</td>\n",
       "      <td>3.900050e+11</td>\n",
       "      <td>2.019260e+11</td>\n",
       "      <td>2.427660e+11</td>\n",
       "      <td>2.760460e+11</td>\n",
       "      <td>8.545400e+10</td>\n",
       "      <td>-3.399600e+10</td>\n",
       "      <td>1.304450e+10</td>\n",
       "      <td>...</td>\n",
       "      <td>0.0</td>\n",
       "      <td>0.0</td>\n",
       "      <td>0.0</td>\n",
       "      <td>0.0</td>\n",
       "      <td>0.0</td>\n",
       "      <td>0.0</td>\n",
       "      <td>0.0</td>\n",
       "      <td>0.0</td>\n",
       "      <td>0.0</td>\n",
       "      <td>0.0</td>\n",
       "    </tr>\n",
       "  </tbody>\n",
       "</table>\n",
       "<p>5 rows × 146 columns</p>\n",
       "</div>"
      ],
      "text/plain": [
       "               ATIVO     DIV_BRUTA  DISPONIBILIDADES   DIV_LIQUIDA  \\\n",
       "ticker                                                               \n",
       "BBAS3   1.780470e+12  0.000000e+00      0.000000e+00  0.000000e+00   \n",
       "BBDC3   1.329520e+12  0.000000e+00      0.000000e+00  0.000000e+00   \n",
       "BBDC4   1.329520e+12  0.000000e+00      0.000000e+00  0.000000e+00   \n",
       "PETR3   1.015140e+12  4.995550e+11      1.095500e+11  3.900050e+11   \n",
       "PETR4   1.015140e+12  4.995550e+11      1.095500e+11  3.900050e+11   \n",
       "\n",
       "        ATIVO_CIRCULANTE    PATRIM_LIQ  RECEITA_LIQUIDA          EBIT  \\\n",
       "ticker                                                                  \n",
       "BBAS3       0.000000e+00  1.050070e+11     0.000000e+00  0.000000e+00   \n",
       "BBDC3       0.000000e+00  1.351340e+11     0.000000e+00  0.000000e+00   \n",
       "BBDC4       0.000000e+00  1.351340e+11     0.000000e+00  0.000000e+00   \n",
       "PETR3       2.019260e+11  2.427660e+11     2.760460e+11  8.545400e+10   \n",
       "PETR4       2.019260e+11  2.427660e+11     2.760460e+11  8.545400e+10   \n",
       "\n",
       "        LUCRO_LIQUIDO     NRO_ACOES  ...  \\\n",
       "ticker                               ...   \n",
       "BBAS3    1.612730e+10  2.865420e+09  ...   \n",
       "BBDC3    1.760820e+10  8.870210e+09  ...   \n",
       "BBDC4    1.760820e+10  8.870210e+09  ...   \n",
       "PETR3   -3.399600e+10  1.304450e+10  ...   \n",
       "PETR4   -3.399600e+10  1.304450e+10  ...   \n",
       "\n",
       "        SUBSETOR_TECIDOS_VESTUARIO_E_CALCADOS  SUBSETOR_TELEFONIA_FIXA  \\\n",
       "ticker                                                                   \n",
       "BBAS3                                     0.0                      0.0   \n",
       "BBDC3                                     0.0                      0.0   \n",
       "BBDC4                                     0.0                      0.0   \n",
       "PETR3                                     0.0                      0.0   \n",
       "PETR4                                     0.0                      0.0   \n",
       "\n",
       "        SUBSETOR_TELEFONIA_MOVEL  SUBSETOR_TRANSPORTE_AEREO  \\\n",
       "ticker                                                        \n",
       "BBAS3                        0.0                        0.0   \n",
       "BBDC3                        0.0                        0.0   \n",
       "BBDC4                        0.0                        0.0   \n",
       "PETR3                        0.0                        0.0   \n",
       "PETR4                        0.0                        0.0   \n",
       "\n",
       "        SUBSETOR_TRANSPORTE_FERROVIARIO  SUBSETOR_TRANSPORTE_HIDROVIARIO  \\\n",
       "ticker                                                                     \n",
       "BBAS3                               0.0                              0.0   \n",
       "BBDC3                               0.0                              0.0   \n",
       "BBDC4                               0.0                              0.0   \n",
       "PETR3                               0.0                              0.0   \n",
       "PETR4                               0.0                              0.0   \n",
       "\n",
       "        SUBSETOR_TRANSPORTE_RODOVIARIO  SUBSETOR_UTENSILIOS_DOMESTICOS  \\\n",
       "ticker                                                                   \n",
       "BBAS3                              0.0                             0.0   \n",
       "BBDC3                              0.0                             0.0   \n",
       "BBDC4                              0.0                             0.0   \n",
       "PETR3                              0.0                             0.0   \n",
       "PETR4                              0.0                             0.0   \n",
       "\n",
       "        SUBSETOR_VESTUARIO  SUBSETOR_VIAGENS_E_TURISMO  \n",
       "ticker                                                  \n",
       "BBAS3                  0.0                         0.0  \n",
       "BBDC3                  0.0                         0.0  \n",
       "BBDC4                  0.0                         0.0  \n",
       "PETR3                  0.0                         0.0  \n",
       "PETR4                  0.0                         0.0  \n",
       "\n",
       "[5 rows x 146 columns]"
      ]
     },
     "execution_count": 43,
     "metadata": {},
     "output_type": "execute_result"
    }
   ],
   "source": [
    "from sklearn.neighbors import LocalOutlierFactor\n",
    "\n",
    "lof = LocalOutlierFactor(n_neighbors=25, contamination=0.01)\n",
    "\n",
    "acoes_one_hot[pd.Series(lof.fit_predict(acoes_one_hot), index=acoes_one_hot.index) == -1]"
   ]
  },
  {
   "cell_type": "markdown",
   "metadata": {},
   "source": [
    "Dada a relevância dos ativos dados como outliers pelos métodos utilizados acima, não será feita a remoção desses outliers do dataset pois outliers nesse domínio são bem-vindos"
   ]
  },
  {
   "cell_type": "markdown",
   "metadata": {},
   "source": [
    "# Estatísticas Descritivas\n",
    "\n",
    "Para análise fundamentalista os ativos mais interessantes são aqueles que pertencem a empresas sólidas e pagam bons dividendos\n",
    "\n",
    "Os indicadores financeiros que medem a saúde financeira de uma empresa, assim como sua rentabilidade são:\n",
    "\n",
    "- ROE (Return on Equity);\n",
    "    - Quanto de lucro uma empresa gera pra cada Real próprio investido nela\n",
    "\n",
    "- ROIC (Return on Invested Capital);\n",
    "    - Quanto de lucro uma empresa gera pra cada Real próprio e de terceiros investido nela\n",
    "    \n",
    "- Dívida Líquida sobre Patrimônio Liquido;\n",
    "    - O quanto do patrimônio líquido da empresa equivale à dívida líquida, ou seja, o nível de dívida dela. Ideal é abaixo de 50%\n",
    "\n",
    "- Margem EBIT;\n",
    "    - Resultado operacional sobre a receita líquida; Mostra o lucro operacional realizado para cada \"venda\", quanto maior melhor (teoricamente)\n",
    "\n",
    "- Margem Líquida;\n",
    "    - Lucro Líquido/Receita Líquida; a porcentagem de lucro por venda realizada\n",
    "\n",
    "Abaixo é possível observar que existe uma variedade muito grande nos valores dos indicadores, é comum ter outliers nos boxes mesmo numa escala logaritmica"
   ]
  },
  {
   "cell_type": "code",
   "execution_count": 44,
   "metadata": {},
   "outputs": [
    {
     "data": {
      "text/plain": [
       "<AxesSubplot:>"
      ]
     },
     "execution_count": 44,
     "metadata": {},
     "output_type": "execute_result"
    },
    {
     "data": {
      "image/png": "[encoded data removed]",
      "text/plain": [
       "<Figure size 432x288 with 1 Axes>"
      ]
     },
     "metadata": {
      "needs_background": "light"
     },
     "output_type": "display_data"
    }
   ],
   "source": [
    "acoes_full[['ROE', 'ROIC']].apply(np.log10).plot.box()"
   ]
  },
  {
   "cell_type": "code",
   "execution_count": 45,
   "metadata": {
    "scrolled": true
   },
   "outputs": [
    {
     "data": {
      "text/plain": [
       "<AxesSubplot:>"
      ]
     },
     "execution_count": 45,
     "metadata": {},
     "output_type": "execute_result"
    },
    {
     "data": {
      "image/png": "[encoded data removed]",
      "text/plain": [
       "<Figure size 432x288 with 1 Axes>"
      ]
     },
     "metadata": {
      "needs_background": "light"
     },
     "output_type": "display_data"
    }
   ],
   "source": [
    "acoes_full[['DIV_LIQ/PATR_LIQ']].apply(np.log10).plot.box()"
   ]
  },
  {
   "cell_type": "code",
   "execution_count": 46,
   "metadata": {},
   "outputs": [
    {
     "data": {
      "text/plain": [
       "ticker\n",
       "FRIO3   -28.235628\n",
       "Name: DIV_LIQ/PATR_LIQ, dtype: float64"
      ]
     },
     "execution_count": 46,
     "metadata": {},
     "output_type": "execute_result"
    }
   ],
   "source": [
    "acoes_full[acoes_full['DIV_LIQ/PATR_LIQ'] == acoes_full['DIV_LIQ/PATR_LIQ'].min()]['DIV_LIQ/PATR_LIQ']"
   ]
  },
  {
   "cell_type": "code",
   "execution_count": 47,
   "metadata": {
    "scrolled": true
   },
   "outputs": [
    {
     "data": {
      "text/plain": [
       "<AxesSubplot:>"
      ]
     },
     "execution_count": 47,
     "metadata": {},
     "output_type": "execute_result"
    },
    {
     "data": {
      "image/png": "[encoded data removed]",
      "text/plain": [
       "<Figure size 432x288 with 1 Axes>"
      ]
     },
     "metadata": {
      "needs_background": "light"
     },
     "output_type": "display_data"
    }
   ],
   "source": [
    "acoes_full[['MARGEM_EBIT', 'MARGEM_LIQUIDA']].apply(np.log10).plot.box()"
   ]
  },
  {
   "cell_type": "markdown",
   "metadata": {},
   "source": [
    "# Testes de Hipótese\n",
    "\n",
    "Serão analisadas as influências dos indicadores fundamentalistas citados acima"
   ]
  },
  {
   "cell_type": "markdown",
   "metadata": {},
   "source": [
    "De acordo com a [Suno Research](https://www.sunoresearch.com.br/artigos/os-indicadores-mais-importantes-em-uma-analise/) uma boa **Margem Líquida**, por exemplo, em geral está acima de 10%\n",
    "\n",
    "Abaixo serão testados os indicadores separando a população de acordo com o valor de 15% de **Margem Líquida**. A hipótese nula é de que essas duas populações tem médias de indicadores iguais, e a hipótese alternativa é de que para empresas de **ML** >= 15% esses indicadores tem média maior (no caso da Dívida Líquida/Patrimônio Líquido a hipótese alternativa é que é menor).\n",
    "\n",
    "Será utilizado teste de Mann-Whitney já que a Margem Líquida não segue uma distribuição normal e serão comparados dois grupos não pariados"
   ]
  },
  {
   "cell_type": "code",
   "execution_count": 48,
   "metadata": {},
   "outputs": [
    {
     "name": "stdout",
     "output_type": "stream",
     "text": [
      "MARGEM_LIQUIDA eh gaussiana: False\n",
      "\n",
      "ROIC Hipótese nula: REJEITADA\n",
      "\n",
      "ROE Hipótese nula: REJEITADA\n",
      "\n",
      "DIV_LIQ/PATR_LIQ Hipótese nula: REJEITADA\n",
      "\n",
      "MARGEM_EBIT Hipótese nula: REJEITADA\n"
     ]
    }
   ],
   "source": [
    "# Margem Líquida não segue uma distribuição normal\n",
    "SIGNIFICANCIA = .01\n",
    "\n",
    "print(f'MARGEM_LIQUIDA eh gaussiana: {stats.shapiro(acoes_full[\"MARGEM_LIQUIDA\"]).pvalue > SIGNIFICANCIA}')\n",
    "print()\n",
    "\n",
    "ML_maior = acoes_full[acoes_full['MARGEM_LIQUIDA'] >= .15]\n",
    "ML_menor = acoes_full[acoes_full['MARGEM_LIQUIDA'] < .15]\n",
    "\n",
    "p_value_ROIC = stats.mannwhitneyu(ML_maior['ROIC'], ML_menor['ROIC'], alternative='greater').pvalue\n",
    "p_value_ROE = stats.mannwhitneyu(ML_maior['ROE'], ML_menor['ROE'], alternative='greater').pvalue\n",
    "p_value_DIVLIQ_PATLIQ = stats.mannwhitneyu(ML_maior['DIV_LIQ/PATR_LIQ'], ML_menor['DIV_LIQ/PATR_LIQ'], alternative='less').pvalue\n",
    "p_value_MARGEM_EBIT = stats.mannwhitneyu(ML_maior['MARGEM_EBIT'], ML_menor['MARGEM_EBIT'], alternative='greater').pvalue\n",
    "\n",
    "print(f'ROIC Hipótese nula: {\"ACEITA\" if p_value_ROIC > SIGNIFICANCIA else \"REJEITADA\"}')\n",
    "print()\n",
    "print(f'ROE Hipótese nula: {\"ACEITA\" if p_value_ROE > SIGNIFICANCIA else \"REJEITADA\"}')\n",
    "print()\n",
    "print(f'DIV_LIQ/PATR_LIQ Hipótese nula: {\"ACEITA\" if p_value_DIVLIQ_PATLIQ > SIGNIFICANCIA else \"REJEITADA\"}')\n",
    "print()\n",
    "print(f'MARGEM_EBIT Hipótese nula: {\"ACEITA\" if p_value_MARGEM_EBIT > SIGNIFICANCIA else \"REJEITADA\"}')\n"
   ]
  },
  {
   "cell_type": "markdown",
   "metadata": {},
   "source": [
    "Os indicadores considerados relevantes para saúde financeira se comportaram como esperado de acordo com os analistas do mercado financeiro."
   ]
  },
  {
   "cell_type": "markdown",
   "metadata": {},
   "source": [
    "# Parte 2"
   ]
  },
  {
   "cell_type": "code",
   "execution_count": 49,
   "metadata": {},
   "outputs": [
    {
     "data": {
      "text/plain": [
       "119"
      ]
     },
     "execution_count": 49,
     "metadata": {},
     "output_type": "execute_result"
    }
   ],
   "source": [
    "# quantos dias de negociação (dias uteis) tem nos 6 meses anteriores\n",
    "\n",
    "len(history['ITSA4'].loc[_6m.date():TODAY.date()])"
   ]
  },
  {
   "cell_type": "code",
   "execution_count": 50,
   "metadata": {},
   "outputs": [],
   "source": [
    "WINDOWS = [30, 90] # janelas de tempo em dias\n",
    "\n",
    "def close_ema(row, window):\n",
    "    return history[row.name]['close'].loc[_6m.date():TODAY.date()].ewm(span=window,adjust=False).mean().iloc[-1]\n",
    "\n",
    "def close_std(row, window):\n",
    "    return history[row.name]['close'].loc[_6m.date():TODAY.date()].rolling(window).std().iloc[-1]\n",
    "\n",
    "def window_quantile(row, window, q):\n",
    "    return history[row.name]['close'].loc[_6m.date():TODAY.date()].rolling(window).quantile(q).iloc[-1]\n",
    "\n",
    "def all_time_high(row):\n",
    "    return history[row.name]['close'].loc[:TODAY.date()].max()\n",
    "\n",
    "def all_time_quantile(row, q):\n",
    "    return history[row.name]['close'].loc[:TODAY.date()].quantile(q)\n",
    "\n",
    "acoes_full['ALL_TIME_LOWER_QUARTILE'] = acoes_full.apply(all_time_quantile, args=(.25,), axis=1)\n",
    "acoes_full['ALL_TIME_UPPER_QUARTILE'] = acoes_full.apply(all_time_quantile, args=(.75,), axis=1)\n",
    "acoes_full['ALL_TIME_MEDIAN'] = acoes_full.apply(all_time_quantile, args=(.5,), axis=1)\n",
    "acoes_full['ALL_TIME_HIGH'] = acoes_full.apply(all_time_high, axis=1)\n",
    "\n",
    "for window in WINDOWS:\n",
    "    acoes_full[f'{window}d_EMA'] = acoes_full.apply(close_ema, args=(window,), axis=1)\n",
    "    acoes_full[f'{window}d_STD'] = acoes_full.apply(close_std, args=(window,), axis=1)\n",
    "    acoes_full[f'{window}d_LOWER_QUARTILE'] = acoes_full.apply(window_quantile, args=(window, .25), axis=1)\n",
    "    acoes_full[f'{window}d_UPPER_QUARTILE'] = acoes_full.apply(window_quantile, args=(window, .75), axis=1)\n",
    "    acoes_full[f'{window}d_MEDIAN'] = acoes_full.apply(window_quantile, args=(window, .5), axis=1)\n"
   ]
  },
  {
   "cell_type": "code",
   "execution_count": 51,
   "metadata": {},
   "outputs": [
    {
     "data": {
      "text/plain": [
       "(435, 46)"
      ]
     },
     "execution_count": 51,
     "metadata": {},
     "output_type": "execute_result"
    }
   ],
   "source": [
    "acoes_full.dropna(inplace=True)\n",
    "acoes_full.shape"
   ]
  },
  {
   "cell_type": "code",
   "execution_count": 52,
   "metadata": {},
   "outputs": [
    {
     "data": {
      "text/html": [
       "<div>\n",
       "<style scoped>\n",
       "    .dataframe tbody tr th:only-of-type {\n",
       "        vertical-align: middle;\n",
       "    }\n",
       "\n",
       "    .dataframe tbody tr th {\n",
       "        vertical-align: top;\n",
       "    }\n",
       "\n",
       "    .dataframe thead th {\n",
       "        text-align: right;\n",
       "    }\n",
       "</style>\n",
       "<table border=\"1\" class=\"dataframe\">\n",
       "  <thead>\n",
       "    <tr style=\"text-align: right;\">\n",
       "      <th></th>\n",
       "      <th>PRECO_2020_04_15</th>\n",
       "      <th>ALL_TIME_HIGH</th>\n",
       "      <th>ALL_TIME_LOWER_QUARTILE</th>\n",
       "      <th>ALL_TIME_UPPER_QUARTILE</th>\n",
       "      <th>ALL_TIME_MEDIAN</th>\n",
       "      <th>30d_EMA</th>\n",
       "      <th>30d_STD</th>\n",
       "      <th>30d_LOWER_QUARTILE</th>\n",
       "      <th>30d_UPPER_QUARTILE</th>\n",
       "      <th>30d_MEDIAN</th>\n",
       "      <th>90d_EMA</th>\n",
       "      <th>90d_STD</th>\n",
       "      <th>90d_LOWER_QUARTILE</th>\n",
       "      <th>90d_UPPER_QUARTILE</th>\n",
       "      <th>90d_MEDIAN</th>\n",
       "    </tr>\n",
       "    <tr>\n",
       "      <th>ticker</th>\n",
       "      <th></th>\n",
       "      <th></th>\n",
       "      <th></th>\n",
       "      <th></th>\n",
       "      <th></th>\n",
       "      <th></th>\n",
       "      <th></th>\n",
       "      <th></th>\n",
       "      <th></th>\n",
       "      <th></th>\n",
       "      <th></th>\n",
       "      <th></th>\n",
       "      <th></th>\n",
       "      <th></th>\n",
       "      <th></th>\n",
       "    </tr>\n",
       "  </thead>\n",
       "  <tbody>\n",
       "    <tr>\n",
       "      <th>ABCB4</th>\n",
       "      <td>14.07</td>\n",
       "      <td>23.750000</td>\n",
       "      <td>8.319670</td>\n",
       "      <td>14.349300</td>\n",
       "      <td>9.835170</td>\n",
       "      <td>14.495609</td>\n",
       "      <td>2.060701</td>\n",
       "      <td>12.6825</td>\n",
       "      <td>14.137500</td>\n",
       "      <td>13.550000</td>\n",
       "      <td>17.096334</td>\n",
       "      <td>3.616854</td>\n",
       "      <td>14.445000</td>\n",
       "      <td>21.367500</td>\n",
       "      <td>19.719999</td>\n",
       "    </tr>\n",
       "    <tr>\n",
       "      <th>BAZA3</th>\n",
       "      <td>30.00</td>\n",
       "      <td>189.000000</td>\n",
       "      <td>26.000000</td>\n",
       "      <td>40.000000</td>\n",
       "      <td>32.000000</td>\n",
       "      <td>31.352450</td>\n",
       "      <td>3.248535</td>\n",
       "      <td>28.5000</td>\n",
       "      <td>31.622500</td>\n",
       "      <td>30.000000</td>\n",
       "      <td>34.342904</td>\n",
       "      <td>4.779336</td>\n",
       "      <td>32.097500</td>\n",
       "      <td>39.682499</td>\n",
       "      <td>37.475000</td>\n",
       "    </tr>\n",
       "    <tr>\n",
       "      <th>BBAS3</th>\n",
       "      <td>29.65</td>\n",
       "      <td>55.180000</td>\n",
       "      <td>9.495832</td>\n",
       "      <td>28.510000</td>\n",
       "      <td>22.481649</td>\n",
       "      <td>32.155390</td>\n",
       "      <td>5.795814</td>\n",
       "      <td>27.2300</td>\n",
       "      <td>31.715001</td>\n",
       "      <td>29.650000</td>\n",
       "      <td>39.850906</td>\n",
       "      <td>9.640486</td>\n",
       "      <td>32.950000</td>\n",
       "      <td>50.142501</td>\n",
       "      <td>48.644999</td>\n",
       "    </tr>\n",
       "    <tr>\n",
       "      <th>BBDC3</th>\n",
       "      <td>19.00</td>\n",
       "      <td>35.439999</td>\n",
       "      <td>3.404605</td>\n",
       "      <td>17.856899</td>\n",
       "      <td>11.621750</td>\n",
       "      <td>20.907360</td>\n",
       "      <td>2.775818</td>\n",
       "      <td>18.7100</td>\n",
       "      <td>20.485001</td>\n",
       "      <td>19.210000</td>\n",
       "      <td>25.879171</td>\n",
       "      <td>6.078261</td>\n",
       "      <td>20.897501</td>\n",
       "      <td>32.535001</td>\n",
       "      <td>31.570000</td>\n",
       "    </tr>\n",
       "    <tr>\n",
       "      <th>BBDC4</th>\n",
       "      <td>20.50</td>\n",
       "      <td>39.410000</td>\n",
       "      <td>14.751925</td>\n",
       "      <td>22.112575</td>\n",
       "      <td>17.392400</td>\n",
       "      <td>22.870859</td>\n",
       "      <td>3.213732</td>\n",
       "      <td>20.3977</td>\n",
       "      <td>23.142500</td>\n",
       "      <td>21.070001</td>\n",
       "      <td>28.001697</td>\n",
       "      <td>6.027746</td>\n",
       "      <td>23.812500</td>\n",
       "      <td>34.607500</td>\n",
       "      <td>33.314999</td>\n",
       "    </tr>\n",
       "  </tbody>\n",
       "</table>\n",
       "</div>"
      ],
      "text/plain": [
       "        PRECO_2020_04_15  ALL_TIME_HIGH  ALL_TIME_LOWER_QUARTILE  \\\n",
       "ticker                                                             \n",
       "ABCB4              14.07      23.750000                 8.319670   \n",
       "BAZA3              30.00     189.000000                26.000000   \n",
       "BBAS3              29.65      55.180000                 9.495832   \n",
       "BBDC3              19.00      35.439999                 3.404605   \n",
       "BBDC4              20.50      39.410000                14.751925   \n",
       "\n",
       "        ALL_TIME_UPPER_QUARTILE  ALL_TIME_MEDIAN    30d_EMA   30d_STD  \\\n",
       "ticker                                                                  \n",
       "ABCB4                 14.349300         9.835170  14.495609  2.060701   \n",
       "BAZA3                 40.000000        32.000000  31.352450  3.248535   \n",
       "BBAS3                 28.510000        22.481649  32.155390  5.795814   \n",
       "BBDC3                 17.856899        11.621750  20.907360  2.775818   \n",
       "BBDC4                 22.112575        17.392400  22.870859  3.213732   \n",
       "\n",
       "        30d_LOWER_QUARTILE  30d_UPPER_QUARTILE  30d_MEDIAN    90d_EMA  \\\n",
       "ticker                                                                  \n",
       "ABCB4              12.6825           14.137500   13.550000  17.096334   \n",
       "BAZA3              28.5000           31.622500   30.000000  34.342904   \n",
       "BBAS3              27.2300           31.715001   29.650000  39.850906   \n",
       "BBDC3              18.7100           20.485001   19.210000  25.879171   \n",
       "BBDC4              20.3977           23.142500   21.070001  28.001697   \n",
       "\n",
       "         90d_STD  90d_LOWER_QUARTILE  90d_UPPER_QUARTILE  90d_MEDIAN  \n",
       "ticker                                                                \n",
       "ABCB4   3.616854           14.445000           21.367500   19.719999  \n",
       "BAZA3   4.779336           32.097500           39.682499   37.475000  \n",
       "BBAS3   9.640486           32.950000           50.142501   48.644999  \n",
       "BBDC3   6.078261           20.897501           32.535001   31.570000  \n",
       "BBDC4   6.027746           23.812500           34.607500   33.314999  "
      ]
     },
     "execution_count": 52,
     "metadata": {},
     "output_type": "execute_result"
    }
   ],
   "source": [
    "acoes_full[[PRECO_HOJE, 'ALL_TIME_HIGH']\n",
    "           + [col\n",
    "              for col in acoes_full\n",
    "              if col.endswith('_EMA') or col.endswith('_STD')\n",
    "              or col.endswith('QUARTILE') or col.endswith('MEDIAN')]].head()\n",
    "# TODO:\n",
    "# feature percentis all-time [DONE]\n",
    "# feature percentis window [DONE]\n",
    "# discretizar target em percentis [DONE]"
   ]
  },
  {
   "cell_type": "code",
   "execution_count": 53,
   "metadata": {},
   "outputs": [
    {
     "data": {
      "text/plain": [
       "<AxesSubplot:>"
      ]
     },
     "execution_count": 53,
     "metadata": {},
     "output_type": "execute_result"
    },
    {
     "data": {
      "image/png": "[encoded data removed]",
      "text/plain": [
       "<Figure size 432x288 with 1 Axes>"
      ]
     },
     "metadata": {
      "needs_background": "light"
     },
     "output_type": "display_data"
    }
   ],
   "source": [
    "example = 'MGLU3'\n",
    "s1 = history[example]['close'].loc[_6m.date():TODAY.date()].ewm(span=30,adjust=False).mean()\n",
    "s2 = history[example]['close'].loc[_6m.date():TODAY.date()].ewm(span=90,adjust=False).mean()\n",
    "s4 = history[example]['close'].loc[_6m.date():TODAY.date()].ewm(span=180,adjust=False).mean()\n",
    "s3 = history[example]['close'].loc[_6m.date():TODAY.date()].rolling(30).quantile(.75)\n",
    "\n",
    "pd.DataFrame({'30EMA': s1, '90EMA': s2, '180EMA': s4}).plot()"
   ]
  },
  {
   "cell_type": "markdown",
   "metadata": {},
   "source": [
    "> Definindo target: variação do preço daqui a 90 pregões `\"VARIACAO_90d\"`"
   ]
  },
  {
   "cell_type": "code",
   "execution_count": 54,
   "metadata": {},
   "outputs": [],
   "source": [
    "def target(row):\n",
    "    d90_price = history[row.name]['close'].loc[:TODAY.date()].iloc[-1]\n",
    "    target_price = history[row.name]['close'].iloc[-1]\n",
    "    return target_price / d90_price - 1\n",
    "\n",
    "prices = acoes_full.apply(lambda row: history[row.name]['close'].iloc[-1], axis=1)\n",
    "    \n",
    "     \n",
    "acoes_full['VARIACAO_90d'] = acoes_full.apply(target, axis=1)"
   ]
  },
  {
   "cell_type": "code",
   "execution_count": 55,
   "metadata": {},
   "outputs": [
    {
     "data": {
      "text/plain": [
       "ATIVO                       float64\n",
       "DIV_BRUTA                   float64\n",
       "DISPONIBILIDADES            float64\n",
       "DIV_LIQUIDA                 float64\n",
       "ATIVO_CIRCULANTE            float64\n",
       "PATRIM_LIQ                  float64\n",
       "RECEITA_LIQUIDA             float64\n",
       "EBIT                        float64\n",
       "LUCRO_LIQUIDO               float64\n",
       "NRO_ACOES                   float64\n",
       "CRES_REC_(5A)               float64\n",
       "ROIC                        float64\n",
       "LIQUIDEZ_CORR               float64\n",
       "DEPOSITOS                   float64\n",
       "CART_DE_CREDITO             float64\n",
       "RESULT_INT_FINANC           float64\n",
       "REC_SERVICOS                float64\n",
       "PRECO_2020_04_15            float64\n",
       "LPA                         float64\n",
       "VPA                         float64\n",
       "P/L                         float64\n",
       "P/VP                        float64\n",
       "P/EBIT                      float64\n",
       "MARKET_CAP                  float64\n",
       "EV                          float64\n",
       "EV/EBIT                     float64\n",
       "MARGEM_EBIT                 float64\n",
       "MARGEM_LIQUIDA              float64\n",
       "ROE                         float64\n",
       "DIV_LIQ/PATR_LIQ            float64\n",
       "SETOR                      category\n",
       "SUBSETOR                   category\n",
       "ALL_TIME_LOWER_QUARTILE     float64\n",
       "ALL_TIME_UPPER_QUARTILE     float64\n",
       "ALL_TIME_MEDIAN             float64\n",
       "ALL_TIME_HIGH               float64\n",
       "30d_EMA                     float64\n",
       "30d_STD                     float64\n",
       "30d_LOWER_QUARTILE          float64\n",
       "30d_UPPER_QUARTILE          float64\n",
       "30d_MEDIAN                  float64\n",
       "90d_EMA                     float64\n",
       "90d_STD                     float64\n",
       "90d_LOWER_QUARTILE          float64\n",
       "90d_UPPER_QUARTILE          float64\n",
       "90d_MEDIAN                  float64\n",
       "VARIACAO_90d                float64\n",
       "dtype: object"
      ]
     },
     "execution_count": 55,
     "metadata": {},
     "output_type": "execute_result"
    }
   ],
   "source": [
    "acoes_full.dtypes"
   ]
  },
  {
   "cell_type": "code",
   "execution_count": 56,
   "metadata": {},
   "outputs": [
    {
     "data": {
      "text/plain": [
       "ticker\n",
       "ABCB4   -0.130775\n",
       "BEES3   -0.038462\n",
       "BEES4   -0.065455\n",
       "BGIP3   -0.136117\n",
       "BNBR3   -0.106321\n",
       "           ...   \n",
       "VIVT4   -0.145972\n",
       "VLID3   -0.065733\n",
       "WHRL3   -0.248053\n",
       "WHRL4   -0.241081\n",
       "YDUQ3   -0.023198\n",
       "Name: VARIACAO_90d, Length: 101, dtype: float64"
      ]
     },
     "execution_count": 56,
     "metadata": {},
     "output_type": "execute_result"
    }
   ],
   "source": [
    "d90_price = history[example]['close'].loc[:TODAY.date()].iloc[-1]\n",
    "target_price = history[example]['close'].iloc[-1]\n",
    "\n",
    "acoes_full[acoes_full['VARIACAO_90d'] < 0]['VARIACAO_90d']"
   ]
  },
  {
   "cell_type": "code",
   "execution_count": 57,
   "metadata": {},
   "outputs": [
    {
     "data": {
      "text/plain": [
       "ATIVO                       float64\n",
       "DIV_BRUTA                   float64\n",
       "DISPONIBILIDADES            float64\n",
       "DIV_LIQUIDA                 float64\n",
       "ATIVO_CIRCULANTE            float64\n",
       "PATRIM_LIQ                  float64\n",
       "RECEITA_LIQUIDA             float64\n",
       "EBIT                        float64\n",
       "LUCRO_LIQUIDO               float64\n",
       "NRO_ACOES                   float64\n",
       "CRES_REC_(5A)               float64\n",
       "ROIC                        float64\n",
       "LIQUIDEZ_CORR               float64\n",
       "DEPOSITOS                   float64\n",
       "CART_DE_CREDITO             float64\n",
       "RESULT_INT_FINANC           float64\n",
       "REC_SERVICOS                float64\n",
       "PRECO_2020_04_15            float64\n",
       "LPA                         float64\n",
       "VPA                         float64\n",
       "P/L                         float64\n",
       "P/VP                        float64\n",
       "P/EBIT                      float64\n",
       "MARKET_CAP                  float64\n",
       "EV                          float64\n",
       "EV/EBIT                     float64\n",
       "MARGEM_EBIT                 float64\n",
       "MARGEM_LIQUIDA              float64\n",
       "ROE                         float64\n",
       "DIV_LIQ/PATR_LIQ            float64\n",
       "SETOR                      category\n",
       "SUBSETOR                   category\n",
       "ALL_TIME_LOWER_QUARTILE     float64\n",
       "ALL_TIME_UPPER_QUARTILE     float64\n",
       "ALL_TIME_MEDIAN             float64\n",
       "ALL_TIME_HIGH               float64\n",
       "30d_EMA                     float64\n",
       "30d_STD                     float64\n",
       "30d_LOWER_QUARTILE          float64\n",
       "30d_UPPER_QUARTILE          float64\n",
       "30d_MEDIAN                  float64\n",
       "90d_EMA                     float64\n",
       "90d_STD                     float64\n",
       "90d_LOWER_QUARTILE          float64\n",
       "90d_UPPER_QUARTILE          float64\n",
       "90d_MEDIAN                  float64\n",
       "VARIACAO_90d                float64\n",
       "dtype: object"
      ]
     },
     "execution_count": 57,
     "metadata": {},
     "output_type": "execute_result"
    }
   ],
   "source": [
    "acoes_full.dtypes"
   ]
  },
  {
   "cell_type": "markdown",
   "metadata": {},
   "source": [
    "> - Usando one-hot-encoding para dados categóricos\n",
    "> - Separando o dataset em conjuntos de treinamento, validação e teste"
   ]
  },
  {
   "cell_type": "code",
   "execution_count": 58,
   "metadata": {},
   "outputs": [],
   "source": [
    "X = pd.get_dummies(acoes_full.drop(columns=['VARIACAO_90d']))\n",
    "y = acoes_full['VARIACAO_90d']"
   ]
  },
  {
   "cell_type": "code",
   "execution_count": 59,
   "metadata": {},
   "outputs": [
    {
     "name": "stdout",
     "output_type": "stream",
     "text": [
      "326 109 109\n"
     ]
    }
   ],
   "source": [
    "from sklearn.model_selection import train_test_split\n",
    "\n",
    "X_train, X_test, y_train, y_test = train_test_split(X, y, test_size=.25, random_state=42)\n",
    "_, X_val, _, y_val = train_test_split(X, y, test_size=.25, random_state=0)\n",
    "\n",
    "print(len(X_train), len(X_test), len(X_val))"
   ]
  },
  {
   "cell_type": "markdown",
   "metadata": {},
   "source": [
    "> Utilizando optuna para escolha dos hiperparâmetros"
   ]
  },
  {
   "cell_type": "code",
   "execution_count": 60,
   "metadata": {},
   "outputs": [],
   "source": [
    "from sklearn.linear_model import LinearRegression\n",
    "from sklearn.svm import SVR\n",
    "from sklearn.pipeline import make_pipeline\n",
    "from sklearn.preprocessing import StandardScaler\n",
    "from sklearn.ensemble import RandomForestRegressor\n",
    "from sklearn.neural_network import MLPRegressor\n",
    "from sklearn.metrics import mean_squared_error, mean_absolute_error, r2_score\n",
    "\n",
    "import os\n",
    "import joblib\n",
    "import optuna\n",
    "\n",
    "def objective(trial):\n",
    "    reg_name = trial.suggest_categorical('regressor', ['SVM', 'RandomForest', 'MLP'])\n",
    "    \n",
    "    if reg_name == 'SVM':\n",
    "        hyperparams = {\n",
    "            'kernel': trial.suggest_categorical('kernel', ['linear', 'poly', 'rbf', 'sigmoid']),\n",
    "            'degree': trial.suggest_int('degree', 3, 10),\n",
    "            'C': trial.suggest_loguniform('C', 1e-10, 1e10),\n",
    "            'gamma': 'auto'\n",
    "        }\n",
    "        regr = make_pipeline(StandardScaler(), SVR(**hyperparams))\n",
    "\n",
    "\n",
    "    elif reg_name == 'RandomForest':\n",
    "        hyperparams = {\n",
    "            'n_estimators': trial.suggest_int('n_estimators', 50, 200, 50),\n",
    "            'min_samples_leaf': trial.suggest_int('min_samples_leaf', 1, 4),\n",
    "            'n_jobs': -1,\n",
    "            'random_state': 42\n",
    "        }\n",
    "        regr = RandomForestRegressor(**hyperparams)\n",
    "\n",
    "\n",
    "    elif reg_name == 'MLP':\n",
    "        n_layers = trial.suggest_int('n_layers', 1, 3)\n",
    "        layers = []\n",
    "        for i in range(n_layers):\n",
    "            layers.append(int(trial.suggest_discrete_uniform(f'n_neurons_{i}', 50, 100, 10)))\n",
    "\n",
    "        hyperparams = {\n",
    "            'hidden_layer_sizes': tuple(layers),\n",
    "            'activation': trial.suggest_categorical('activation', ['logistic', 'tanh']),\n",
    "            'max_iter': 10**4,\n",
    "            'random_state': 42,\n",
    "            'solver': 'lbfgs'\n",
    "        }\n",
    "        regr = MLPRegressor(**hyperparams)\n",
    "        \n",
    "    regr.fit(X_train, y_train)\n",
    "    \n",
    "    y_pred = regr.predict(X_val)\n",
    "    \n",
    "    return np.sqrt(mean_squared_error(y_val, y_pred))"
   ]
  },
  {
   "cell_type": "code",
   "execution_count": 61,
   "metadata": {},
   "outputs": [
    {
     "name": "stdout",
     "output_type": "stream",
     "text": [
      "CPU times: user 15.4 ms, sys: 0 ns, total: 15.4 ms\n",
      "Wall time: 14.2 ms\n"
     ]
    }
   ],
   "source": [
    "%%time\n",
    "\n",
    "study_path = '../data/study.pkl'\n",
    "if os.path.exists(study_path) and os.path.isfile(study_path):\n",
    "    study = joblib.load(study_path)\n",
    "else:\n",
    "    study = optuna.create_study(direction='minimize')\n",
    "    study.optimize(objective, n_trials=50, n_jobs=-1, timeout=60 * 60)\n",
    "    joblib.dump(study, study_path)"
   ]
  },
  {
   "cell_type": "code",
   "execution_count": 62,
   "metadata": {},
   "outputs": [
    {
     "data": {
      "text/plain": [
       "{'regressor': 'MLP',\n",
       " 'n_layers': 3,\n",
       " 'n_neurons_0': 100.0,\n",
       " 'n_neurons_1': 70.0,\n",
       " 'n_neurons_2': 70.0,\n",
       " 'activation': 'logistic'}"
      ]
     },
     "execution_count": 62,
     "metadata": {},
     "output_type": "execute_result"
    }
   ],
   "source": [
    "study.best_params"
   ]
  },
  {
   "cell_type": "markdown",
   "metadata": {},
   "source": [
    "> Adicionando MLFlow para log dos algoritmos"
   ]
  },
  {
   "cell_type": "code",
   "execution_count": 63,
   "metadata": {},
   "outputs": [],
   "source": [
    "import mlflow\n",
    "\n",
    "mlflow.set_tracking_uri('http://localhost:5000')\n",
    "mlflow.set_experiment(\"IF697\")\n",
    "mlflow.sklearn.autolog()"
   ]
  },
  {
   "cell_type": "markdown",
   "metadata": {},
   "source": [
    "> Função para pegar os melhores hiperparametros baseado no estudo feito no optuna"
   ]
  },
  {
   "cell_type": "code",
   "execution_count": 64,
   "metadata": {},
   "outputs": [],
   "source": [
    "def get_best_hyperparams(regr_type: str) -> dict:\n",
    "    best_hyperparams = None\n",
    "    best_rmse = np.inf\n",
    "\n",
    "    for t in study.get_trials():\n",
    "        if t.params['regressor'] == regr_type:\n",
    "            if best_rmse > t.value:\n",
    "                best_rmse = t.value\n",
    "                best_hyperparams = t.params.copy()\n",
    "\n",
    "    del best_hyperparams['regressor']\n",
    "\n",
    "    if regr_type == 'MLP':\n",
    "        n_layers = best_hyperparams['n_layers']\n",
    "        del best_hyperparams['n_layers']\n",
    "        \n",
    "        layers = [0 for i in range(n_layers)]\n",
    "        \n",
    "        for k, v in list(best_hyperparams.items()):\n",
    "            if k.startswith('n_neurons_'):\n",
    "                layers[int(k.split('_')[-1])] = int(v)\n",
    "                del best_hyperparams[k]\n",
    "                \n",
    "        best_hyperparams['hidden_layer_sizes'] = tuple(layers)\n",
    "    \n",
    "    return best_hyperparams\n",
    "\n",
    "def eval_metrics(actual, pred):\n",
    "    rmse = np.sqrt(mean_squared_error(actual, pred))\n",
    "    mae = mean_absolute_error(actual, pred)\n",
    "    r2 = r2_score(actual, pred)\n",
    "    return rmse, mae, r2"
   ]
  },
  {
   "cell_type": "markdown",
   "metadata": {},
   "source": [
    "## Os 4 algoritmos escolhidos foram:\n",
    "\n",
    "- Regressão Linear, o algoritmo de regressão mais básico que vai servir de comparativo para os outros algoritmos\n",
    "- SVM, com diferentes kernels\n",
    "- Random Forest\n",
    "- MLP, com diferentes combinações de camadas"
   ]
  },
  {
   "cell_type": "markdown",
   "metadata": {},
   "source": [
    "# Regressão Linear\n",
    "\n",
    "baseline de comparação para os outros regressores"
   ]
  },
  {
   "cell_type": "code",
   "execution_count": 65,
   "metadata": {},
   "outputs": [
    {
     "name": "stdout",
     "output_type": "stream",
     "text": [
      "rmse: 658941131182.627\n",
      "r2: -702110496331977612853248.000\n",
      "mae: 190909877102.489\n"
     ]
    }
   ],
   "source": [
    "lr_hyperparams = {\n",
    "    'normalize': True,\n",
    "    'n_jobs': -1\n",
    "}\n",
    "\n",
    "\n",
    "with mlflow.start_run(run_name=f'lr_{datetime.now().strftime(\"%Y_%m_%d-%H_%M_%S\")}') as run:\n",
    "    lr = LinearRegression(**lr_hyperparams).fit(X_train, y_train)\n",
    "\n",
    "    y_pred = lr.predict(X_test)\n",
    "\n",
    "    (rmse, mae, r2) = eval_metrics(y_test, y_pred)\n",
    "\n",
    "    mlflow.log_metric(\"rmse\", rmse)\n",
    "    mlflow.log_metric(\"r2\", r2)\n",
    "    mlflow.log_metric(\"mae\", mae)\n",
    "    \n",
    "    print(\"rmse: %.3f\" % rmse)\n",
    "    print(\"r2: %.3f\" % r2)\n",
    "    print(\"mae: %.3f\" % mae)\n"
   ]
  },
  {
   "cell_type": "markdown",
   "metadata": {},
   "source": [
    "# SVM"
   ]
  },
  {
   "cell_type": "code",
   "execution_count": 66,
   "metadata": {},
   "outputs": [
    {
     "name": "stderr",
     "output_type": "stream",
     "text": [
      "2020/11/17 12:13:06 WARNING mlflow.sklearn.utils: Truncated the value of the key `steps`. Truncated value: `[('standardscaler', StandardScaler(copy=True, with_mean=True, with_std=True)), ('svr', SVR(C=0.061688259325117706, cache_size=200, coef0=0.0, degree=4, epsilon=0.1,\n",
      "    gamma='auto', kernel='sigmoid', max_iter=-1, shrinking=True, tol=0.001,\n",
      "    ve...`\n"
     ]
    },
    {
     "name": "stdout",
     "output_type": "stream",
     "text": [
      "{'gamma': 'auto', 'kernel': 'sigmoid', 'degree': 4, 'C': 0.061688259325117706}\n",
      "rmse: 0.793\n",
      "r2: -0.016\n",
      "mae: 0.374\n"
     ]
    }
   ],
   "source": [
    "svm_hyperparams = {\n",
    "    'gamma': 'auto',\n",
    "    **get_best_hyperparams('SVM')\n",
    "}\n",
    "\n",
    "print(svm_hyperparams)\n",
    "\n",
    "with mlflow.start_run(run_name=f'svm_{datetime.now().strftime(\"%Y_%m_%d-%H_%M_%S\")}') as run:\n",
    "\n",
    "    svr = make_pipeline(StandardScaler(), SVR(**svm_hyperparams))\n",
    "\n",
    "    svr.fit(X_train, y_train)\n",
    "    y_pred = svr.predict(X_test)\n",
    "\n",
    "    (rmse, mae, r2) = eval_metrics(y_test, y_pred)\n",
    "\n",
    "    mlflow.log_metric(\"rmse\", rmse)\n",
    "    mlflow.log_metric(\"r2\", r2)\n",
    "    mlflow.log_metric(\"mae\", mae)\n",
    "    \n",
    "    print(\"rmse: %.3f\" % rmse)\n",
    "    print(\"r2: %.3f\" % r2)\n",
    "    print(\"mae: %.3f\" % mae)\n"
   ]
  },
  {
   "cell_type": "markdown",
   "metadata": {},
   "source": [
    "# Random Forest"
   ]
  },
  {
   "cell_type": "code",
   "execution_count": 67,
   "metadata": {},
   "outputs": [
    {
     "name": "stdout",
     "output_type": "stream",
     "text": [
      "{'n_jobs': -1, 'random_state': 42, 'n_estimators': 50, 'min_samples_leaf': 1}\n",
      "rmse: 0.949\n",
      "r2: -0.457\n",
      "mae: 0.453\n"
     ]
    }
   ],
   "source": [
    "rf_hyperparams = {\n",
    "    'n_jobs': -1,\n",
    "    'random_state': 42,\n",
    "    **get_best_hyperparams('RandomForest')\n",
    "}\n",
    "\n",
    "print(rf_hyperparams)\n",
    "\n",
    "rf = RandomForestRegressor(**rf_hyperparams)\n",
    "\n",
    "with mlflow.start_run(run_name=f'r_forest_{datetime.now().strftime(\"%Y_%m_%d-%H_%M_%S\")}') as run:\n",
    "    rf.fit(X_train, y_train)\n",
    "    y_pred = rf.predict(X_test)\n",
    "\n",
    "    (rmse, mae, r2) = eval_metrics(y_test, y_pred)\n",
    "\n",
    "    mlflow.log_metric(\"rmse\", rmse)\n",
    "    mlflow.log_metric(\"r2\", r2)\n",
    "    mlflow.log_metric(\"mae\", mae)\n",
    "    \n",
    "    print(\"rmse: %.3f\" % rmse)\n",
    "    print(\"r2: %.3f\" % r2)\n",
    "    print(\"mae: %.3f\" % mae)\n"
   ]
  },
  {
   "cell_type": "markdown",
   "metadata": {},
   "source": [
    "# MLP"
   ]
  },
  {
   "cell_type": "code",
   "execution_count": 68,
   "metadata": {},
   "outputs": [
    {
     "name": "stdout",
     "output_type": "stream",
     "text": [
      "{'max_iter': 10000, 'random_state': 42, 'solver': 'lbfgs', 'activation': 'logistic', 'hidden_layer_sizes': (100, 70, 70)}\n",
      "rmse: 0.815\n",
      "r2: -0.073\n",
      "mae: 0.406\n",
      "CPU times: user 2min 48s, sys: 4min 8s, total: 6min 57s\n",
      "Wall time: 39.2 s\n"
     ]
    }
   ],
   "source": [
    "%%time\n",
    "\n",
    "mlp_hyperparams = {\n",
    "    'max_iter': 10**4,\n",
    "    'random_state': 42,\n",
    "    'solver': 'lbfgs',\n",
    "    **get_best_hyperparams('MLP')\n",
    "}\n",
    "\n",
    "mlp_hyperparams\n",
    "\n",
    "print(mlp_hyperparams)\n",
    "\n",
    "mlp = MLPRegressor(**mlp_hyperparams)\n",
    "\n",
    "with mlflow.start_run(run_name=f'mlp_{datetime.now().strftime(\"%Y_%m_%d-%H_%M_%S\")}') as run:\n",
    "    mlp.fit(X_train, y_train)\n",
    "    \n",
    "    y_pred = mlp.predict(X_test)\n",
    "\n",
    "    (rmse, mae, r2) = eval_metrics(y_test, y_pred)\n",
    "\n",
    "    mlflow.log_metric(\"rmse\", rmse)\n",
    "    mlflow.log_metric(\"r2\", r2)\n",
    "    mlflow.log_metric(\"mae\", mae)\n",
    "    \n",
    "    print(\"rmse: %.3f\" % rmse)\n",
    "    print(\"r2: %.3f\" % r2)\n",
    "    print(\"mae: %.3f\" % mae)\n"
   ]
  },
  {
   "cell_type": "markdown",
   "metadata": {},
   "source": [
    "> É possível observar através do MLFlow que a SVM obteve melhor desempenho em todas as métricas em relação aos demais e o MLP não ficou muito atrás, uma diferença muito pequena\n",
    "\n",
    "> Todos eles obtiveram um desempenho muito superior à regressão linear"
   ]
  },
  {
   "cell_type": "markdown",
   "metadata": {},
   "source": [
    "# Melhoria do algoritmo com melhor desempenho"
   ]
  },
  {
   "cell_type": "code",
   "execution_count": 69,
   "metadata": {},
   "outputs": [
    {
     "name": "stdout",
     "output_type": "stream",
     "text": [
      "Temos: 162 atributos\n"
     ]
    }
   ],
   "source": [
    "print(f'Temos: {len(X.columns)} atributos')"
   ]
  },
  {
   "cell_type": "code",
   "execution_count": 70,
   "metadata": {},
   "outputs": [],
   "source": [
    "from sklearn.decomposition import PCA"
   ]
  },
  {
   "cell_type": "code",
   "execution_count": 71,
   "metadata": {},
   "outputs": [
    {
     "name": "stderr",
     "output_type": "stream",
     "text": [
      "2020/11/17 12:13:46 WARNING mlflow.sklearn: PCA.score failed. The 'training_score' metric will not be recorded. Scoring error: 'y'\n"
     ]
    },
    {
     "data": {
      "text/plain": [
       "PCA(copy=True, iterated_power='auto', n_components=50, random_state=42,\n",
       "    svd_solver='randomized', tol=0.0, whiten=True)"
      ]
     },
     "execution_count": 71,
     "metadata": {},
     "output_type": "execute_result"
    }
   ],
   "source": [
    "pca = PCA(n_components=50, svd_solver='randomized',\n",
    "          whiten=True, random_state=42)\n",
    "pca.fit(X_train)"
   ]
  },
  {
   "cell_type": "code",
   "execution_count": 72,
   "metadata": {},
   "outputs": [],
   "source": [
    "X_pca_train = pca.transform(X_train)\n",
    "X_pca_test = pca.transform(X_test)"
   ]
  },
  {
   "cell_type": "code",
   "execution_count": 73,
   "metadata": {},
   "outputs": [
    {
     "data": {
      "text/plain": [
       "(326, 50)"
      ]
     },
     "execution_count": 73,
     "metadata": {},
     "output_type": "execute_result"
    }
   ],
   "source": [
    "X_pca_train.shape"
   ]
  },
  {
   "cell_type": "code",
   "execution_count": 74,
   "metadata": {},
   "outputs": [
    {
     "name": "stderr",
     "output_type": "stream",
     "text": [
      "2020/11/17 12:13:46 WARNING mlflow.sklearn.utils: Truncated the value of the key `steps`. Truncated value: `[('standardscaler', StandardScaler(copy=True, with_mean=True, with_std=True)), ('svr', SVR(C=0.061688259325117706, cache_size=200, coef0=0.0, degree=4, epsilon=0.1,\n",
      "    gamma='auto', kernel='sigmoid', max_iter=-1, shrinking=True, tol=0.001,\n",
      "    ve...`\n"
     ]
    },
    {
     "name": "stdout",
     "output_type": "stream",
     "text": [
      "rmse: 0.807\n",
      "r2: -0.054\n",
      "mae: 0.387\n"
     ]
    }
   ],
   "source": [
    "with mlflow.start_run(run_name=f'svm_pca_{datetime.now().strftime(\"%Y_%m_%d-%H_%M_%S\")}') as run:\n",
    "    svr.fit(X_pca_train, y_train)\n",
    "    y_pred = svr.predict(X_pca_test)\n",
    "\n",
    "    (rmse, mae, r2) = eval_metrics(y_test, y_pred)\n",
    "\n",
    "    mlflow.log_metric(\"rmse\", rmse)\n",
    "    mlflow.log_metric(\"r2\", r2)\n",
    "    mlflow.log_metric(\"mae\", mae)\n",
    "    \n",
    "    print(\"rmse: %.3f\" % rmse)\n",
    "    print(\"r2: %.3f\" % r2)\n",
    "    print(\"mae: %.3f\" % mae)\n"
   ]
  },
  {
   "cell_type": "markdown",
   "metadata": {},
   "source": [
    "> Redução de dimensionalidade com o PCA não surtiu nenhum efeito positivo na SVM\n",
    "\n",
    "> Utilizando ensemble com os regressores testados há uma melhora em relação aos algoritmos vistos anteriormente em todas as métricas exceto erro médio absoluto (mae)"
   ]
  },
  {
   "cell_type": "code",
   "execution_count": 75,
   "metadata": {},
   "outputs": [
    {
     "name": "stderr",
     "output_type": "stream",
     "text": [
      "2020/11/17 12:13:47 WARNING mlflow.sklearn.utils: Truncated the value of the key `estimators`. Truncated value: `[('SVM', Pipeline(memory=None,\n",
      "         steps=[('standardscaler',\n",
      "                 StandardScaler(copy=True, with_mean=True, with_std=True)),\n",
      "                ('svr',\n",
      "                 SVR(C=0.061688259325117706, cache_size=200, coef0=0.0,\n",
      "         ...`\n",
      "2020/11/17 12:13:47 WARNING mlflow.sklearn.utils: Truncated the value of the key `SVM`. Truncated value: `Pipeline(memory=None,\n",
      "         steps=[('standardscaler',\n",
      "                 StandardScaler(copy=True, with_mean=True, with_std=True)),\n",
      "                ('svr',\n",
      "                 SVR(C=0.061688259325117706, cache_size=200, coef0=0.0,\n",
      "                  ...`\n",
      "2020/11/17 12:13:47 WARNING mlflow.sklearn.utils: Truncated the value of the key `RandomForest`. Truncated value: `RandomForestRegressor(bootstrap=True, ccp_alpha=0.0, criterion='mse',\n",
      "                      max_depth=None, max_features='auto', max_leaf_nodes=None,\n",
      "                      max_samples=None, min_impurity_decrease=0.0,\n",
      "                      min_impu...`\n",
      "2020/11/17 12:13:47 WARNING mlflow.sklearn.utils: Truncated the value of the key `MLP`. Truncated value: `MLPRegressor(activation='logistic', alpha=0.0001, batch_size='auto', beta_1=0.9,\n",
      "             beta_2=0.999, early_stopping=False, epsilon=1e-08,\n",
      "             hidden_layer_sizes=(100, 70, 70), learning_rate='constant',\n",
      "             learning_rate_in...`\n",
      "2020/11/17 12:13:47 WARNING mlflow.sklearn.utils: Truncated the value of the key `SVM__steps`. Truncated value: `[('standardscaler', StandardScaler(copy=True, with_mean=True, with_std=True)), ('svr', SVR(C=0.061688259325117706, cache_size=200, coef0=0.0, degree=4, epsilon=0.1,\n",
      "    gamma='auto', kernel='sigmoid', max_iter=-1, shrinking=True, tol=0.001,\n",
      "    ve...`\n"
     ]
    },
    {
     "name": "stdout",
     "output_type": "stream",
     "text": [
      "rmse: 0.788\n",
      "r2: -0.004\n",
      "mae: 0.378\n"
     ]
    }
   ],
   "source": [
    "from sklearn.ensemble import VotingRegressor\n",
    "\n",
    "estimators = [('SVM', svr), ('RandomForest', rf), ('MLP', mlp)]\n",
    "\n",
    "weights = (1.5, .3, .3)\n",
    "\n",
    "regr = VotingRegressor(estimators, weights, n_jobs=-1)\n",
    "\n",
    "with mlflow.start_run(run_name=f'ensemble_{str(weights)}_{datetime.now().strftime(\"%Y_%m_%d-%H_%M_%S\")}') as run:\n",
    "    regr.fit(X_train, y_train)\n",
    "\n",
    "    y_pred = regr.predict(X_test)\n",
    "\n",
    "    (rmse, mae, r2) = eval_metrics(y_test, y_pred)\n",
    "\n",
    "    mlflow.log_metric(\"rmse\", rmse)\n",
    "    mlflow.log_metric(\"r2\", r2)\n",
    "    mlflow.log_metric(\"mae\", mae)\n",
    "    \n",
    "    print(\"rmse: %.3f\" % rmse)\n",
    "    print(\"r2: %.3f\" % r2)\n",
    "    print(\"mae: %.3f\" % mae)"
   ]
  },
  {
   "cell_type": "code",
   "execution_count": 76,
   "metadata": {},
   "outputs": [
    {
     "name": "stderr",
     "output_type": "stream",
     "text": [
      "/home/adilson/.anaconda3/envs/if697/lib/python3.8/site-packages/pandas/plotting/_matplotlib/core.py:1235: UserWarning: FixedFormatter should only be used together with FixedLocator\n",
      "  ax.set_xticklabels(xticklabels)\n"
     ]
    },
    {
     "data": {
      "text/plain": [
       "<AxesSubplot:xlabel='ticker'>"
      ]
     },
     "execution_count": 76,
     "metadata": {},
     "output_type": "execute_result"
    },
    {
     "data": {
      "image/png": "[encoded data removed]",
      "text/plain": [
       "<Figure size 1440x720 with 1 Axes>"
      ]
     },
     "metadata": {
      "needs_background": "light"
     },
     "output_type": "display_data"
    }
   ],
   "source": [
    "pd.DataFrame({'y_pred': y_pred, 'y_true': y_test}).plot(figsize=(20, 10))"
   ]
  },
  {
   "cell_type": "markdown",
   "metadata": {},
   "source": [
    "> Com a remoção de outliers do conjunto de treinamento abaixo, é possível observar uma melhora no erro médio absoluto; Por enquanto o melhor modelo obtido"
   ]
  },
  {
   "cell_type": "code",
   "execution_count": 77,
   "metadata": {},
   "outputs": [],
   "source": [
    "Q1 = y_train.quantile(0.25)\n",
    "Q3 = y_train.quantile(0.75)\n",
    "IQR = Q3 - Q1\n",
    "\n",
    "fltr = (y_train >= Q1 - 1.5 * IQR) & (y_train <= Q3 + 1.5 *IQR)"
   ]
  },
  {
   "cell_type": "code",
   "execution_count": 78,
   "metadata": {},
   "outputs": [
    {
     "name": "stderr",
     "output_type": "stream",
     "text": [
      "2020/11/17 12:13:59 WARNING mlflow.sklearn.utils: Truncated the value of the key `estimators`. Truncated value: `[('SVM', Pipeline(memory=None,\n",
      "         steps=[('standardscaler',\n",
      "                 StandardScaler(copy=True, with_mean=True, with_std=True)),\n",
      "                ('svr',\n",
      "                 SVR(C=0.061688259325117706, cache_size=200, coef0=0.0,\n",
      "         ...`\n",
      "2020/11/17 12:13:59 WARNING mlflow.sklearn.utils: Truncated the value of the key `SVM`. Truncated value: `Pipeline(memory=None,\n",
      "         steps=[('standardscaler',\n",
      "                 StandardScaler(copy=True, with_mean=True, with_std=True)),\n",
      "                ('svr',\n",
      "                 SVR(C=0.061688259325117706, cache_size=200, coef0=0.0,\n",
      "                  ...`\n",
      "2020/11/17 12:13:59 WARNING mlflow.sklearn.utils: Truncated the value of the key `RandomForest`. Truncated value: `RandomForestRegressor(bootstrap=True, ccp_alpha=0.0, criterion='mse',\n",
      "                      max_depth=None, max_features='auto', max_leaf_nodes=None,\n",
      "                      max_samples=None, min_impurity_decrease=0.0,\n",
      "                      min_impu...`\n",
      "2020/11/17 12:13:59 WARNING mlflow.sklearn.utils: Truncated the value of the key `MLP`. Truncated value: `MLPRegressor(activation='logistic', alpha=0.0001, batch_size='auto', beta_1=0.9,\n",
      "             beta_2=0.999, early_stopping=False, epsilon=1e-08,\n",
      "             hidden_layer_sizes=(100, 70, 70), learning_rate='constant',\n",
      "             learning_rate_in...`\n",
      "2020/11/17 12:13:59 WARNING mlflow.sklearn.utils: Truncated the value of the key `SVM__steps`. Truncated value: `[('standardscaler', StandardScaler(copy=True, with_mean=True, with_std=True)), ('svr', SVR(C=0.061688259325117706, cache_size=200, coef0=0.0, degree=4, epsilon=0.1,\n",
      "    gamma='auto', kernel='sigmoid', max_iter=-1, shrinking=True, tol=0.001,\n",
      "    ve...`\n"
     ]
    },
    {
     "name": "stdout",
     "output_type": "stream",
     "text": [
      "rmse: 0.788\n",
      "r2: -0.004\n",
      "mae: 0.350\n"
     ]
    }
   ],
   "source": [
    "y_noout_train = y_train.loc[fltr]\n",
    "X_noout_train = X_train.loc[fltr]\n",
    "\n",
    "with mlflow.start_run(run_name=f'ensemble_remove_outlier_{str(weights)}_{datetime.now().strftime(\"%Y_%m_%d-%H_%M_%S\")}') as run:\n",
    "    regr.fit(X_noout_train, y_noout_train)\n",
    "\n",
    "    y_pred = regr.predict(X_test)\n",
    "\n",
    "    (rmse, mae, r2) = eval_metrics(y_test, y_pred)\n",
    "\n",
    "    mlflow.log_metric(\"rmse\", rmse)\n",
    "    mlflow.log_metric(\"r2\", r2)\n",
    "    mlflow.log_metric(\"mae\", mae)\n",
    "    \n",
    "    print(\"rmse: %.3f\" % rmse)\n",
    "    print(\"r2: %.3f\" % r2)\n",
    "    print(\"mae: %.3f\" % mae)"
   ]
  },
  {
   "cell_type": "code",
   "execution_count": 79,
   "metadata": {},
   "outputs": [
    {
     "name": "stderr",
     "output_type": "stream",
     "text": [
      "/home/adilson/.anaconda3/envs/if697/lib/python3.8/site-packages/pandas/plotting/_matplotlib/core.py:1235: UserWarning: FixedFormatter should only be used together with FixedLocator\n",
      "  ax.set_xticklabels(xticklabels)\n"
     ]
    },
    {
     "data": {
      "text/plain": [
       "<AxesSubplot:xlabel='ticker'>"
      ]
     },
     "execution_count": 79,
     "metadata": {},
     "output_type": "execute_result"
    },
    {
     "data": {
      "image/png": "[encoded data removed]",
      "text/plain": [
       "<Figure size 1440x720 with 1 Axes>"
      ]
     },
     "metadata": {
      "needs_background": "light"
     },
     "output_type": "display_data"
    }
   ],
   "source": [
    "pd.DataFrame({'y_pred': y_pred, 'y_true': y_test}).plot(figsize=(20, 10))"
   ]
  }
 ],
 "metadata": {
  "kernelspec": {
   "display_name": "Python 3",
   "language": "python",
   "name": "python3"
  },
  "language_info": {
   "codemirror_mode": {
    "name": "ipython",
    "version": 3
   },
   "file_extension": ".py",
   "mimetype": "text/x-python",
   "name": "python",
   "nbconvert_exporter": "python",
   "pygments_lexer": "ipython3",
   "version": "3.8.0"
  }
 },
 "nbformat": 4,
 "nbformat_minor": 4
}
